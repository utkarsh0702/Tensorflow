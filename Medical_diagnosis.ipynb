{
  "nbformat": 4,
  "nbformat_minor": 0,
  "metadata": {
    "colab": {
      "name": "Medical_diagnosis.ipynb",
      "provenance": [],
      "collapsed_sections": [],
      "authorship_tag": "ABX9TyMjudoUnVwUbdYBdP+/wrEV",
      "include_colab_link": true
    },
    "kernelspec": {
      "name": "python3",
      "display_name": "Python 3"
    },
    "accelerator": "GPU"
  },
  "cells": [
    {
      "cell_type": "markdown",
      "metadata": {
        "id": "view-in-github",
        "colab_type": "text"
      },
      "source": [
        "<a href=\"https://colab.research.google.com/github/utkarsh0702/Tensorflow/blob/master/Medical_diagnosis.ipynb\" target=\"_parent\"><img src=\"https://colab.research.google.com/assets/colab-badge.svg\" alt=\"Open In Colab\"/></a>"
      ]
    },
    {
      "cell_type": "code",
      "metadata": {
        "id": "Y-rqwtg-H_t0",
        "colab_type": "code",
        "colab": {}
      },
      "source": [
        "import tensorflow as tf\n",
        "import os\n",
        "from tensorflow import keras\n",
        "import zipfile\n",
        "from google.colab import files\n",
        "import matplotlib.pyplot as plt"
      ],
      "execution_count": 0,
      "outputs": []
    },
    {
      "cell_type": "code",
      "metadata": {
        "id": "ms6d8y1vIfrf",
        "colab_type": "code",
        "outputId": "7e857000-ab0a-4fe3-e481-a380dea3fbf0",
        "colab": {
          "base_uri": "https://localhost:8080/",
          "height": 34
        }
      },
      "source": [
        "device_name = tf.test.gpu_device_name()\n",
        "if device_name != '/device:GPU:0':\n",
        "  raise SystemError('GPU device not found')\n",
        "print('Found GPU at: {}'.format(device_name))"
      ],
      "execution_count": 68,
      "outputs": [
        {
          "output_type": "stream",
          "text": [
            "Found GPU at: /device:GPU:0\n"
          ],
          "name": "stdout"
        }
      ]
    },
    {
      "cell_type": "code",
      "metadata": {
        "id": "TGwXK3aRIhIW",
        "colab_type": "code",
        "colab": {}
      },
      "source": [
        "local_zip= '/content/brain_tumor_dataset.zip'\n",
        "zip_ref= zipfile.ZipFile(local_zip, 'r')\n",
        "zip_ref.extractall('/content')\n",
        "zip_ref.close()"
      ],
      "execution_count": 0,
      "outputs": []
    },
    {
      "cell_type": "code",
      "metadata": {
        "id": "vjcJ5fAJIovH",
        "colab_type": "code",
        "colab": {}
      },
      "source": [
        "train_no_tumor_dir= os.path.join('/content/brain_tumor_dataset/Train/no')\n",
        "train_tumor_dir= os.path.join('/content/brain_tumor_dataset/Train/yes')\n",
        "test_no_tumor_dir= os.path.join('/content/brain_tumor_dataset/Test/no')\n",
        "test_tumor_dir= os.path.join('/content/brain_tumor_dataset/Test/yes')"
      ],
      "execution_count": 0,
      "outputs": []
    },
    {
      "cell_type": "code",
      "metadata": {
        "id": "cBqs38J3IseR",
        "colab_type": "code",
        "outputId": "7f645025-5111-4aff-b80e-45a7bb87a957",
        "colab": {
          "base_uri": "https://localhost:8080/",
          "height": 85
        }
      },
      "source": [
        "print('Total Train No Tumor images: ',len(os.listdir(train_no_tumor_dir)))\n",
        "print('Total Train Tumor images: ',len(os.listdir(train_tumor_dir)))\n",
        "print('Total Test No Tumor images: ',len(os.listdir(test_no_tumor_dir)))\n",
        "print('Total Test Tumor images: ',len(os.listdir(test_tumor_dir)))"
      ],
      "execution_count": 71,
      "outputs": [
        {
          "output_type": "stream",
          "text": [
            "Total Train No Tumor images:  68\n",
            "Total Train Tumor images:  121\n",
            "Total Test No Tumor images:  30\n",
            "Total Test Tumor images:  34\n"
          ],
          "name": "stdout"
        }
      ]
    },
    {
      "cell_type": "markdown",
      "metadata": {
        "id": "ORs1Y048LP-w",
        "colab_type": "text"
      },
      "source": [
        "# Creating the Model"
      ]
    },
    {
      "cell_type": "code",
      "metadata": {
        "id": "N3TpAXC3IwF3",
        "colab_type": "code",
        "colab": {}
      },
      "source": [
        "model= keras.Sequential([\n",
        "    keras.layers.Conv2D(16,(7,7), activation='relu', input_shape=(214,214,3)),\n",
        "    keras.layers.BatchNormalization(axis= 1),\n",
        "    keras.layers.MaxPooling2D(2,2),\n",
        "    keras.layers.Dropout(0.2),\n",
        "    keras.layers.Conv2D(32,(5,5), activation='relu'),\n",
        "    keras.layers.BatchNormalization(axis= 1),\n",
        "    keras.layers.MaxPooling2D(2,2),\n",
        "    keras.layers.Dropout(0.2),\n",
        "    keras.layers.Conv2D(64,(3,3), activation='relu'),\n",
        "    keras.layers.BatchNormalization(axis= 1),\n",
        "    keras.layers.MaxPooling2D(2,2),\n",
        "    keras.layers.Dropout(0.4),\n",
        "    keras.layers.GlobalAveragePooling2D(),\n",
        "    keras.layers.Flatten(),\n",
        "    keras.layers.Dense(512, activation='relu', activity_regularizer=keras.regularizers.l2(0.01)),\n",
        "    keras.layers.Dropout(0.4),\n",
        "    keras.layers.Dense(1, activation='sigmoid')\n",
        "])"
      ],
      "execution_count": 0,
      "outputs": []
    },
    {
      "cell_type": "code",
      "metadata": {
        "id": "cQ1BmxuhI0aN",
        "colab_type": "code",
        "outputId": "6e526014-53e9-4873-9632-5df090878f37",
        "colab": {
          "base_uri": "https://localhost:8080/",
          "height": 731
        }
      },
      "source": [
        "model.summary()"
      ],
      "execution_count": 73,
      "outputs": [
        {
          "output_type": "stream",
          "text": [
            "Model: \"sequential_10\"\n",
            "_________________________________________________________________\n",
            "Layer (type)                 Output Shape              Param #   \n",
            "=================================================================\n",
            "conv2d_30 (Conv2D)           (None, 208, 208, 16)      2368      \n",
            "_________________________________________________________________\n",
            "batch_normalization_30 (Batc (None, 208, 208, 16)      832       \n",
            "_________________________________________________________________\n",
            "max_pooling2d_32 (MaxPooling (None, 104, 104, 16)      0         \n",
            "_________________________________________________________________\n",
            "dropout_43 (Dropout)         (None, 104, 104, 16)      0         \n",
            "_________________________________________________________________\n",
            "conv2d_31 (Conv2D)           (None, 100, 100, 32)      12832     \n",
            "_________________________________________________________________\n",
            "batch_normalization_31 (Batc (None, 100, 100, 32)      400       \n",
            "_________________________________________________________________\n",
            "max_pooling2d_33 (MaxPooling (None, 50, 50, 32)        0         \n",
            "_________________________________________________________________\n",
            "dropout_44 (Dropout)         (None, 50, 50, 32)        0         \n",
            "_________________________________________________________________\n",
            "conv2d_32 (Conv2D)           (None, 48, 48, 64)        18496     \n",
            "_________________________________________________________________\n",
            "batch_normalization_32 (Batc (None, 48, 48, 64)        192       \n",
            "_________________________________________________________________\n",
            "max_pooling2d_34 (MaxPooling (None, 24, 24, 64)        0         \n",
            "_________________________________________________________________\n",
            "dropout_45 (Dropout)         (None, 24, 24, 64)        0         \n",
            "_________________________________________________________________\n",
            "global_average_pooling2d_10  (None, 64)                0         \n",
            "_________________________________________________________________\n",
            "flatten_10 (Flatten)         (None, 64)                0         \n",
            "_________________________________________________________________\n",
            "dense_21 (Dense)             (None, 512)               33280     \n",
            "_________________________________________________________________\n",
            "dropout_46 (Dropout)         (None, 512)               0         \n",
            "_________________________________________________________________\n",
            "dense_22 (Dense)             (None, 1)                 513       \n",
            "=================================================================\n",
            "Total params: 68,913\n",
            "Trainable params: 68,201\n",
            "Non-trainable params: 712\n",
            "_________________________________________________________________\n"
          ],
          "name": "stdout"
        }
      ]
    },
    {
      "cell_type": "code",
      "metadata": {
        "id": "Vx2kdRryI4Bu",
        "colab_type": "code",
        "colab": {}
      },
      "source": [
        "from tensorflow.keras.optimizers import RMSprop\n",
        "\n",
        "#compiling the model\n",
        "model.compile(loss='binary_crossentropy',\n",
        "             optimizer='adam',\n",
        "             metrics=['acc'])"
      ],
      "execution_count": 0,
      "outputs": []
    },
    {
      "cell_type": "code",
      "metadata": {
        "id": "mtArW-w1I36h",
        "colab_type": "code",
        "outputId": "3214bcc7-51a2-4d2f-af71-806faa232f81",
        "colab": {
          "base_uri": "https://localhost:8080/",
          "height": 51
        }
      },
      "source": [
        "from tensorflow.keras.preprocessing.image import ImageDataGenerator\n",
        "\n",
        "train_datagen= ImageDataGenerator(\n",
        "    rescale= 1./255,\n",
        "    rotation_range=40,\n",
        "    width_shift_range=0.2,\n",
        "    height_shift_range=0.2,\n",
        "    shear_range=0.2,\n",
        "    zoom_range=0.2,\n",
        "    horizontal_flip=True,\n",
        "    fill_mode='nearest'\n",
        ")\n",
        "train_gen= train_datagen.flow_from_directory( '/content/brain_tumor_dataset/Train',\n",
        "                                            target_size=(214,214),\n",
        "                                            batch_size=19,\n",
        "                                            class_mode='binary')\n",
        "\n",
        "test_datagen= ImageDataGenerator(\n",
        "    rescale= 1./255,\n",
        "    rotation_range=40,\n",
        "    width_shift_range=0.2,\n",
        "    height_shift_range=0.2,\n",
        "    shear_range=0.2,\n",
        "    zoom_range=0.2,\n",
        "    horizontal_flip=True,\n",
        "    fill_mode='nearest'\n",
        ")\n",
        "test_gen= test_datagen.flow_from_directory( '/content/brain_tumor_dataset/Test',\n",
        "                                            target_size=(214,214),\n",
        "                                            batch_size=7,\n",
        "                                            class_mode='binary')"
      ],
      "execution_count": 75,
      "outputs": [
        {
          "output_type": "stream",
          "text": [
            "Found 189 images belonging to 2 classes.\n",
            "Found 64 images belonging to 2 classes.\n"
          ],
          "name": "stdout"
        }
      ]
    },
    {
      "cell_type": "markdown",
      "metadata": {
        "id": "Dki7Cn2qLJhu",
        "colab_type": "text"
      },
      "source": [
        "# Taining the model"
      ]
    },
    {
      "cell_type": "code",
      "metadata": {
        "id": "4nXsEkqBhr5v",
        "colab_type": "code",
        "colab": {}
      },
      "source": [
        "class myCall(keras.callbacks.Callback):\n",
        "  def on_epoch_end(self, epoch, logs={}):\n",
        "    if(logs.get('val_acc')>0.75):\n",
        "      print('\\nThe Training is Cancelled.....')\n",
        "      self.model.stop_training= True\n",
        "\n",
        "callback= myCall()"
      ],
      "execution_count": 0,
      "outputs": []
    },
    {
      "cell_type": "code",
      "metadata": {
        "id": "Jchfba6iI3zB",
        "colab_type": "code",
        "outputId": "b98adee5-29c1-49f7-9774-227dfec8de50",
        "colab": {
          "base_uri": "https://localhost:8080/",
          "height": 1000
        }
      },
      "source": [
        "history= model.fit_generator( train_gen,\n",
        "                   steps_per_epoch=10,\n",
        "                   epochs=100,\n",
        "                   validation_data= test_gen,\n",
        "                   validation_steps= 10,\n",
        "                   verbose=2,\n",
        "                   callbacks=[callback] )"
      ],
      "execution_count": 77,
      "outputs": [
        {
          "output_type": "stream",
          "text": [
            "Epoch 1/100\n",
            "Epoch 1/100\n",
            "10/10 - 2s - loss: 0.6938 - acc: 0.5156\n",
            "10/10 - 5s - loss: 0.8907 - acc: 0.6085 - val_loss: 0.6938 - val_acc: 0.5156\n",
            "Epoch 2/100\n",
            "Epoch 1/100\n",
            "10/10 - 1s - loss: 0.6961 - acc: 0.5938\n",
            "10/10 - 3s - loss: 0.6993 - acc: 0.6455 - val_loss: 0.6961 - val_acc: 0.5938\n",
            "Epoch 3/100\n",
            "Epoch 1/100\n",
            "10/10 - 1s - loss: 0.7012 - acc: 0.5938\n",
            "10/10 - 3s - loss: 0.6460 - acc: 0.6667 - val_loss: 0.7012 - val_acc: 0.5938\n",
            "Epoch 4/100\n",
            "Epoch 1/100\n",
            "10/10 - 1s - loss: 0.7031 - acc: 0.5938\n",
            "10/10 - 3s - loss: 0.6372 - acc: 0.6878 - val_loss: 0.7031 - val_acc: 0.5938\n",
            "Epoch 5/100\n",
            "Epoch 1/100\n",
            "10/10 - 1s - loss: 0.7230 - acc: 0.5312\n",
            "10/10 - 3s - loss: 0.6171 - acc: 0.6984 - val_loss: 0.7230 - val_acc: 0.5312\n",
            "Epoch 6/100\n",
            "Epoch 1/100\n",
            "10/10 - 1s - loss: 0.7088 - acc: 0.6094\n",
            "10/10 - 3s - loss: 0.6543 - acc: 0.6667 - val_loss: 0.7088 - val_acc: 0.6094\n",
            "Epoch 7/100\n",
            "Epoch 1/100\n",
            "10/10 - 1s - loss: 0.7508 - acc: 0.5312\n",
            "10/10 - 3s - loss: 0.6361 - acc: 0.6931 - val_loss: 0.7508 - val_acc: 0.5312\n",
            "Epoch 8/100\n",
            "Epoch 1/100\n",
            "10/10 - 1s - loss: 0.7302 - acc: 0.5312\n",
            "10/10 - 3s - loss: 0.6382 - acc: 0.6825 - val_loss: 0.7302 - val_acc: 0.5312\n",
            "Epoch 9/100\n",
            "Epoch 1/100\n",
            "10/10 - 1s - loss: 0.7001 - acc: 0.5781\n",
            "10/10 - 3s - loss: 0.5977 - acc: 0.6825 - val_loss: 0.7001 - val_acc: 0.5781\n",
            "Epoch 10/100\n",
            "Epoch 1/100\n",
            "10/10 - 1s - loss: 0.7329 - acc: 0.5156\n",
            "10/10 - 3s - loss: 0.6122 - acc: 0.7037 - val_loss: 0.7329 - val_acc: 0.5156\n",
            "Epoch 11/100\n",
            "Epoch 1/100\n",
            "10/10 - 1s - loss: 0.7160 - acc: 0.6250\n",
            "10/10 - 3s - loss: 0.6012 - acc: 0.7196 - val_loss: 0.7160 - val_acc: 0.6250\n",
            "Epoch 12/100\n",
            "Epoch 1/100\n",
            "10/10 - 1s - loss: 0.7439 - acc: 0.5469\n",
            "10/10 - 3s - loss: 0.6139 - acc: 0.7037 - val_loss: 0.7439 - val_acc: 0.5469\n",
            "Epoch 13/100\n",
            "Epoch 1/100\n",
            "10/10 - 1s - loss: 0.7805 - acc: 0.5625\n",
            "10/10 - 3s - loss: 0.5812 - acc: 0.7196 - val_loss: 0.7805 - val_acc: 0.5625\n",
            "Epoch 14/100\n",
            "Epoch 1/100\n",
            "10/10 - 1s - loss: 0.7514 - acc: 0.5469\n",
            "10/10 - 3s - loss: 0.5856 - acc: 0.7249 - val_loss: 0.7514 - val_acc: 0.5469\n",
            "Epoch 15/100\n",
            "Epoch 1/100\n",
            "10/10 - 1s - loss: 0.7448 - acc: 0.5312\n",
            "10/10 - 3s - loss: 0.5987 - acc: 0.7037 - val_loss: 0.7448 - val_acc: 0.5312\n",
            "Epoch 16/100\n",
            "Epoch 1/100\n",
            "10/10 - 1s - loss: 0.7561 - acc: 0.5781\n",
            "10/10 - 3s - loss: 0.5911 - acc: 0.7302 - val_loss: 0.7561 - val_acc: 0.5781\n",
            "Epoch 17/100\n",
            "Epoch 1/100\n",
            "10/10 - 1s - loss: 0.7850 - acc: 0.5781\n",
            "10/10 - 3s - loss: 0.6086 - acc: 0.7143 - val_loss: 0.7850 - val_acc: 0.5781\n",
            "Epoch 18/100\n",
            "Epoch 1/100\n",
            "10/10 - 1s - loss: 0.7490 - acc: 0.5312\n",
            "10/10 - 3s - loss: 0.5842 - acc: 0.6984 - val_loss: 0.7490 - val_acc: 0.5312\n",
            "Epoch 19/100\n",
            "Epoch 1/100\n",
            "10/10 - 1s - loss: 0.8553 - acc: 0.5312\n",
            "10/10 - 3s - loss: 0.5689 - acc: 0.7407 - val_loss: 0.8553 - val_acc: 0.5312\n",
            "Epoch 20/100\n",
            "Epoch 1/100\n",
            "10/10 - 1s - loss: 0.8137 - acc: 0.5469\n",
            "10/10 - 3s - loss: 0.5580 - acc: 0.7513 - val_loss: 0.8137 - val_acc: 0.5469\n",
            "Epoch 21/100\n",
            "Epoch 1/100\n",
            "10/10 - 1s - loss: 0.7750 - acc: 0.5938\n",
            "10/10 - 3s - loss: 0.5786 - acc: 0.7460 - val_loss: 0.7750 - val_acc: 0.5938\n",
            "Epoch 22/100\n",
            "Epoch 1/100\n",
            "10/10 - 1s - loss: 0.6946 - acc: 0.5625\n",
            "10/10 - 3s - loss: 0.5884 - acc: 0.7249 - val_loss: 0.6946 - val_acc: 0.5625\n",
            "Epoch 23/100\n",
            "Epoch 1/100\n",
            "10/10 - 1s - loss: 0.7197 - acc: 0.5938\n",
            "10/10 - 3s - loss: 0.5948 - acc: 0.7143 - val_loss: 0.7197 - val_acc: 0.5938\n",
            "Epoch 24/100\n",
            "Epoch 1/100\n",
            "10/10 - 1s - loss: 0.8381 - acc: 0.5781\n",
            "10/10 - 3s - loss: 0.5926 - acc: 0.6931 - val_loss: 0.8381 - val_acc: 0.5781\n",
            "Epoch 25/100\n",
            "Epoch 1/100\n",
            "10/10 - 1s - loss: 0.7091 - acc: 0.5781\n",
            "10/10 - 3s - loss: 0.5848 - acc: 0.7196 - val_loss: 0.7091 - val_acc: 0.5781\n",
            "Epoch 26/100\n",
            "Epoch 1/100\n",
            "10/10 - 1s - loss: 0.8141 - acc: 0.6094\n",
            "10/10 - 3s - loss: 0.5703 - acc: 0.7513 - val_loss: 0.8141 - val_acc: 0.6094\n",
            "Epoch 27/100\n",
            "Epoch 1/100\n",
            "10/10 - 1s - loss: 0.6124 - acc: 0.6719\n",
            "10/10 - 3s - loss: 0.5766 - acc: 0.7143 - val_loss: 0.6124 - val_acc: 0.6719\n",
            "Epoch 28/100\n",
            "Epoch 1/100\n",
            "10/10 - 1s - loss: 0.6936 - acc: 0.6562\n",
            "10/10 - 3s - loss: 0.5707 - acc: 0.7196 - val_loss: 0.6936 - val_acc: 0.6562\n",
            "Epoch 29/100\n",
            "Epoch 1/100\n",
            "10/10 - 1s - loss: 0.6556 - acc: 0.6875\n",
            "10/10 - 3s - loss: 0.6062 - acc: 0.7090 - val_loss: 0.6556 - val_acc: 0.6875\n",
            "Epoch 30/100\n",
            "Epoch 1/100\n",
            "10/10 - 1s - loss: 0.6410 - acc: 0.6406\n",
            "10/10 - 3s - loss: 0.5779 - acc: 0.7037 - val_loss: 0.6410 - val_acc: 0.6406\n",
            "Epoch 31/100\n",
            "Epoch 1/100\n",
            "10/10 - 1s - loss: 0.6683 - acc: 0.5938\n",
            "10/10 - 3s - loss: 0.6115 - acc: 0.7196 - val_loss: 0.6683 - val_acc: 0.5938\n",
            "Epoch 32/100\n",
            "Epoch 1/100\n",
            "10/10 - 1s - loss: 1.0451 - acc: 0.5625\n",
            "10/10 - 3s - loss: 0.5752 - acc: 0.7302 - val_loss: 1.0451 - val_acc: 0.5625\n",
            "Epoch 33/100\n",
            "Epoch 1/100\n",
            "10/10 - 1s - loss: 0.7659 - acc: 0.6406\n",
            "10/10 - 3s - loss: 0.5775 - acc: 0.7143 - val_loss: 0.7659 - val_acc: 0.6406\n",
            "Epoch 34/100\n",
            "Epoch 1/100\n",
            "10/10 - 1s - loss: 0.7898 - acc: 0.5938\n",
            "10/10 - 3s - loss: 0.5836 - acc: 0.6984 - val_loss: 0.7898 - val_acc: 0.5938\n",
            "Epoch 35/100\n",
            "Epoch 1/100\n",
            "10/10 - 1s - loss: 0.6426 - acc: 0.6719\n",
            "10/10 - 3s - loss: 0.5684 - acc: 0.7249 - val_loss: 0.6426 - val_acc: 0.6719\n",
            "Epoch 36/100\n",
            "Epoch 1/100\n",
            "10/10 - 1s - loss: 0.8740 - acc: 0.6094\n",
            "10/10 - 3s - loss: 0.5946 - acc: 0.7302 - val_loss: 0.8740 - val_acc: 0.6094\n",
            "Epoch 37/100\n",
            "Epoch 1/100\n",
            "10/10 - 1s - loss: 0.7430 - acc: 0.6719\n",
            "10/10 - 3s - loss: 0.5712 - acc: 0.7302 - val_loss: 0.7430 - val_acc: 0.6719\n",
            "Epoch 38/100\n",
            "Epoch 1/100\n",
            "10/10 - 1s - loss: 0.8362 - acc: 0.6719\n",
            "10/10 - 3s - loss: 0.5907 - acc: 0.7196 - val_loss: 0.8362 - val_acc: 0.6719\n",
            "Epoch 39/100\n",
            "Epoch 1/100\n",
            "10/10 - 1s - loss: 0.8837 - acc: 0.6094\n",
            "10/10 - 3s - loss: 0.5539 - acc: 0.7513 - val_loss: 0.8837 - val_acc: 0.6094\n",
            "Epoch 40/100\n",
            "Epoch 1/100\n",
            "10/10 - 1s - loss: 0.6275 - acc: 0.7031\n",
            "10/10 - 3s - loss: 0.5648 - acc: 0.7090 - val_loss: 0.6275 - val_acc: 0.7031\n",
            "Epoch 41/100\n",
            "Epoch 1/100\n",
            "10/10 - 1s - loss: 0.6215 - acc: 0.6719\n",
            "10/10 - 3s - loss: 0.5500 - acc: 0.7196 - val_loss: 0.6215 - val_acc: 0.6719\n",
            "Epoch 42/100\n",
            "Epoch 1/100\n",
            "10/10 - 1s - loss: 0.6974 - acc: 0.6562\n",
            "10/10 - 3s - loss: 0.5564 - acc: 0.7302 - val_loss: 0.6974 - val_acc: 0.6562\n",
            "Epoch 43/100\n",
            "Epoch 1/100\n",
            "10/10 - 1s - loss: 0.9451 - acc: 0.5938\n",
            "10/10 - 3s - loss: 0.5906 - acc: 0.7143 - val_loss: 0.9451 - val_acc: 0.5938\n",
            "Epoch 44/100\n",
            "Epoch 1/100\n",
            "10/10 - 1s - loss: 0.6459 - acc: 0.7344\n",
            "10/10 - 3s - loss: 0.5544 - acc: 0.7302 - val_loss: 0.6459 - val_acc: 0.7344\n",
            "Epoch 45/100\n",
            "Epoch 1/100\n",
            "10/10 - 1s - loss: 0.5660 - acc: 0.7344\n",
            "10/10 - 3s - loss: 0.5670 - acc: 0.7460 - val_loss: 0.5660 - val_acc: 0.7344\n",
            "Epoch 46/100\n",
            "Epoch 1/100\n",
            "10/10 - 1s - loss: 0.6497 - acc: 0.6406\n",
            "10/10 - 3s - loss: 0.5488 - acc: 0.7566 - val_loss: 0.6497 - val_acc: 0.6406\n",
            "Epoch 47/100\n",
            "Epoch 1/100\n",
            "10/10 - 1s - loss: 0.6029 - acc: 0.6875\n",
            "10/10 - 3s - loss: 0.5697 - acc: 0.7460 - val_loss: 0.6029 - val_acc: 0.6875\n",
            "Epoch 48/100\n",
            "Epoch 1/100\n",
            "10/10 - 1s - loss: 0.9295 - acc: 0.6250\n",
            "10/10 - 3s - loss: 0.5786 - acc: 0.7302 - val_loss: 0.9295 - val_acc: 0.6250\n",
            "Epoch 49/100\n",
            "Epoch 1/100\n",
            "10/10 - 2s - loss: 0.7272 - acc: 0.6719\n",
            "10/10 - 3s - loss: 0.5291 - acc: 0.7513 - val_loss: 0.7272 - val_acc: 0.6719\n",
            "Epoch 50/100\n",
            "Epoch 1/100\n",
            "10/10 - 1s - loss: 0.6642 - acc: 0.6719\n",
            "10/10 - 3s - loss: 0.5570 - acc: 0.7407 - val_loss: 0.6642 - val_acc: 0.6719\n",
            "Epoch 51/100\n",
            "Epoch 1/100\n",
            "10/10 - 1s - loss: 0.7813 - acc: 0.6719\n",
            "10/10 - 3s - loss: 0.5412 - acc: 0.7407 - val_loss: 0.7813 - val_acc: 0.6719\n",
            "Epoch 52/100\n",
            "Epoch 1/100\n",
            "10/10 - 1s - loss: 0.7083 - acc: 0.6406\n",
            "10/10 - 3s - loss: 0.5325 - acc: 0.7354 - val_loss: 0.7083 - val_acc: 0.6406\n",
            "Epoch 53/100\n",
            "Epoch 1/100\n",
            "10/10 - 1s - loss: 1.4167 - acc: 0.5469\n",
            "10/10 - 3s - loss: 0.5453 - acc: 0.7672 - val_loss: 1.4167 - val_acc: 0.5469\n",
            "Epoch 54/100\n",
            "Epoch 1/100\n",
            "10/10 - 1s - loss: 0.6447 - acc: 0.6406\n",
            "10/10 - 3s - loss: 0.5043 - acc: 0.7778 - val_loss: 0.6447 - val_acc: 0.6406\n",
            "Epoch 55/100\n",
            "Epoch 1/100\n",
            "10/10 - 1s - loss: 0.8039 - acc: 0.6875\n",
            "10/10 - 3s - loss: 0.5251 - acc: 0.7725 - val_loss: 0.8039 - val_acc: 0.6875\n",
            "Epoch 56/100\n",
            "Epoch 1/100\n",
            "10/10 - 1s - loss: 0.5689 - acc: 0.7031\n",
            "10/10 - 3s - loss: 0.5611 - acc: 0.7196 - val_loss: 0.5689 - val_acc: 0.7031\n",
            "Epoch 57/100\n",
            "Epoch 1/100\n",
            "10/10 - 1s - loss: 0.6077 - acc: 0.7500\n",
            "10/10 - 3s - loss: 0.5469 - acc: 0.7513 - val_loss: 0.6077 - val_acc: 0.7500\n",
            "Epoch 58/100\n",
            "Epoch 1/100\n",
            "10/10 - 1s - loss: 2.2184 - acc: 0.4844\n",
            "10/10 - 3s - loss: 0.5443 - acc: 0.7672 - val_loss: 2.2184 - val_acc: 0.4844\n",
            "Epoch 59/100\n",
            "Epoch 1/100\n",
            "10/10 - 1s - loss: 0.6434 - acc: 0.5625\n",
            "10/10 - 3s - loss: 0.5532 - acc: 0.7619 - val_loss: 0.6434 - val_acc: 0.5625\n",
            "Epoch 60/100\n",
            "Epoch 1/100\n",
            "10/10 - 1s - loss: 0.6597 - acc: 0.6719\n",
            "10/10 - 3s - loss: 0.5205 - acc: 0.7884 - val_loss: 0.6597 - val_acc: 0.6719\n",
            "Epoch 61/100\n",
            "Epoch 1/100\n",
            "10/10 - 1s - loss: 0.6364 - acc: 0.7188\n",
            "10/10 - 3s - loss: 0.5200 - acc: 0.7778 - val_loss: 0.6364 - val_acc: 0.7188\n",
            "Epoch 62/100\n",
            "Epoch 1/100\n",
            "10/10 - 1s - loss: 1.5076 - acc: 0.4844\n",
            "10/10 - 3s - loss: 0.5267 - acc: 0.7513 - val_loss: 1.5076 - val_acc: 0.4844\n",
            "Epoch 63/100\n",
            "Epoch 1/100\n",
            "10/10 - 1s - loss: 0.7691 - acc: 0.6719\n",
            "10/10 - 3s - loss: 0.4739 - acc: 0.8095 - val_loss: 0.7691 - val_acc: 0.6719\n",
            "Epoch 64/100\n",
            "Epoch 1/100\n",
            "10/10 - 1s - loss: 1.1171 - acc: 0.6250\n",
            "10/10 - 3s - loss: 0.5222 - acc: 0.7407 - val_loss: 1.1171 - val_acc: 0.6250\n",
            "Epoch 65/100\n",
            "Epoch 1/100\n",
            "10/10 - 1s - loss: 0.7988 - acc: 0.6250\n",
            "10/10 - 3s - loss: 0.5340 - acc: 0.7566 - val_loss: 0.7988 - val_acc: 0.6250\n",
            "Epoch 66/100\n",
            "Epoch 1/100\n",
            "10/10 - 1s - loss: 0.6213 - acc: 0.6719\n",
            "10/10 - 3s - loss: 0.5195 - acc: 0.7566 - val_loss: 0.6213 - val_acc: 0.6719\n",
            "Epoch 67/100\n",
            "Epoch 1/100\n",
            "10/10 - 1s - loss: 0.7892 - acc: 0.6719\n",
            "10/10 - 3s - loss: 0.5024 - acc: 0.7725 - val_loss: 0.7892 - val_acc: 0.6719\n",
            "Epoch 68/100\n",
            "Epoch 1/100\n",
            "10/10 - 1s - loss: 1.0433 - acc: 0.5625\n",
            "10/10 - 3s - loss: 0.5206 - acc: 0.7566 - val_loss: 1.0433 - val_acc: 0.5625\n",
            "Epoch 69/100\n",
            "Epoch 1/100\n",
            "10/10 - 1s - loss: 0.8121 - acc: 0.6406\n",
            "10/10 - 3s - loss: 0.5091 - acc: 0.7513 - val_loss: 0.8121 - val_acc: 0.6406\n",
            "Epoch 70/100\n",
            "Epoch 1/100\n",
            "10/10 - 1s - loss: 0.6860 - acc: 0.7031\n",
            "10/10 - 3s - loss: 0.4921 - acc: 0.7672 - val_loss: 0.6860 - val_acc: 0.7031\n",
            "Epoch 71/100\n",
            "Epoch 1/100\n",
            "10/10 - 1s - loss: 0.6996 - acc: 0.7656\n",
            "\n",
            "The Training is Cancelled.....\n",
            "10/10 - 3s - loss: 0.4827 - acc: 0.8042 - val_loss: 0.6996 - val_acc: 0.7656\n"
          ],
          "name": "stdout"
        }
      ]
    },
    {
      "cell_type": "markdown",
      "metadata": {
        "id": "BWd5HF9lK1Jg",
        "colab_type": "text"
      },
      "source": [
        "# Vizualizing\n",
        "Going to vizualize the model's accuracy and the loss on the graph."
      ]
    },
    {
      "cell_type": "code",
      "metadata": {
        "id": "YzJDky4RI3qk",
        "colab_type": "code",
        "outputId": "29eb41a0-000b-4d99-fefc-1a31155b8052",
        "colab": {
          "base_uri": "https://localhost:8080/",
          "height": 545
        }
      },
      "source": [
        "acc= history.history['acc']\n",
        "val_acc= history.history['val_acc']\n",
        "loss= history.history['loss']\n",
        "val_loss= history.history['val_loss']\n",
        "\n",
        "epochs= range(len(acc))\n",
        "plt.plot(epochs, acc, label='Accuracy')\n",
        "plt.plot(epochs, val_acc, label=' Test Accuracy')\n",
        "plt.title('Training and validation accuracy')\n",
        "plt.legend(loc='best')\n",
        "plt.show()\n",
        "\n",
        "plt.plot(epochs, loss, label='Loss')\n",
        "plt.plot(epochs, val_loss, label='Test Loss')\n",
        "plt.title('Training and validation loss')\n",
        "plt.legend(loc='best')\n",
        "plt.show()"
      ],
      "execution_count": 78,
      "outputs": [
        {
          "output_type": "display_data",
          "data": {
            "image/png": "[encoded data removed]",
            "text/plain": [
              "<Figure size 432x288 with 1 Axes>"
            ]
          },
          "metadata": {
            "tags": []
          }
        },
        {
          "output_type": "display_data",
          "data": {
            "image/png": "[encoded data removed]",
            "text/plain": [
              "<Figure size 432x288 with 1 Axes>"
            ]
          },
          "metadata": {
            "tags": []
          }
        }
      ]
    },
    {
      "cell_type": "markdown",
      "metadata": {
        "id": "p9cAGaMXjUL1",
        "colab_type": "text"
      },
      "source": [
        "# Saving the Model\n",
        "We are required to save the tensorflow keras model in the form of .h5 keras file as it can be deployed easily and can be loaded to another model for weights."
      ]
    },
    {
      "cell_type": "code",
      "metadata": {
        "id": "Ivm-4ppDTMPz",
        "colab_type": "code",
        "colab": {}
      },
      "source": [
        "model.save('Model_Medical_Diagnosis.h5')"
      ],
      "execution_count": 0,
      "outputs": []
    }
  ]
}