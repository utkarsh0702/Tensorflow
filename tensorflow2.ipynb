{
 "cells": [
  {
   "cell_type": "code",
   "execution_count": 1,
   "metadata": {},
   "outputs": [],
   "source": [
    "import tensorflow as tf"
   ]
  },
  {
   "cell_type": "code",
   "execution_count": 2,
   "metadata": {},
   "outputs": [
    {
     "name": "stdout",
     "output_type": "stream",
     "text": [
      "WARNING:tensorflow:From C:\\Users\\Utkarsh\\Anaconda3\\lib\\site-packages\\tensorflow\\python\\framework\\op_def_library.py:263: colocate_with (from tensorflow.python.framework.ops) is deprecated and will be removed in a future version.\n",
      "Instructions for updating:\n",
      "Colocations handled automatically by placer.\n",
      "23.66\n"
     ]
    }
   ],
   "source": [
    "#Model Parameters\n",
    "w= tf.Variable([.3], tf.float32)\n",
    "b= tf.Variable([-.3], tf.float32)\n",
    "\n",
    "#Input variable\n",
    "x= tf.placeholder(tf.float32)\n",
    "y= tf.placeholder(tf.float32)\n",
    "\n",
    "linear_model= w*x+b\n",
    "\n",
    "#Loss\n",
    "square_error= tf.square(linear_model-y)\n",
    "loss= tf.reduce_sum(square_error)\n",
    "\n",
    "init= tf.global_variables_initializer()\n",
    "\n",
    "sess= tf.Session()\n",
    "sess.run(init)\n",
    "print(sess.run(loss,{x:[1,2,3,4],y:[0,-1,-2,-3]}))"
   ]
  },
  {
   "cell_type": "code",
   "execution_count": 4,
   "metadata": {},
   "outputs": [
    {
     "name": "stdout",
     "output_type": "stream",
     "text": [
      "WARNING:tensorflow:From C:\\Users\\Utkarsh\\Anaconda3\\lib\\site-packages\\tensorflow\\python\\ops\\math_ops.py:3066: to_int32 (from tensorflow.python.ops.math_ops) is deprecated and will be removed in a future version.\n",
      "Instructions for updating:\n",
      "Use tf.cast instead.\n",
      "[array([-0.9999969], dtype=float32), array([0.9999908], dtype=float32)]\n"
     ]
    }
   ],
   "source": [
    "#Completely erased the error\n",
    "#Model Parameters\n",
    "w= tf.Variable([.3], tf.float32)\n",
    "b= tf.Variable([-.3], tf.float32)\n",
    "\n",
    "#Input variable\n",
    "x= tf.placeholder(tf.float32)\n",
    "y= tf.placeholder(tf.float32)\n",
    "\n",
    "linear_model= w*x+b\n",
    "\n",
    "#Loss\n",
    "square_error= tf.square(linear_model-y)\n",
    "loss= tf.reduce_sum(square_error)\n",
    "\n",
    "#Optimize\n",
    "optimizer= tf.train.GradientDescentOptimizer(0.01)\n",
    "train= optimizer.minimize(loss)\n",
    "\n",
    "init= tf.global_variables_initializer()\n",
    "\n",
    "sess= tf.Session()\n",
    "sess.run(init)\n",
    "for i in range(1000):\n",
    "    sess.run(train,{x:[1,2,3,4],y:[0,-1,-2,-3]})\n",
    "    \n",
    "print(sess.run([w,b]))"
   ]
  },
  {
   "cell_type": "code",
   "execution_count": null,
   "metadata": {},
   "outputs": [],
   "source": []
  }
 ],
 "metadata": {
  "kernelspec": {
   "display_name": "Python 3",
   "language": "python",
   "name": "python3"
  },
  "language_info": {
   "codemirror_mode": {
    "name": "ipython",
    "version": 3
   },
   "file_extension": ".py",
   "mimetype": "text/x-python",
   "name": "python",
   "nbconvert_exporter": "python",
   "pygments_lexer": "ipython3",
   "version": "3.7.3"
  }
 },
 "nbformat": 4,
 "nbformat_minor": 2
}
