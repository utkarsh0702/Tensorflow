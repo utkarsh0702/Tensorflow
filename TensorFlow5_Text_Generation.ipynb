{
  "nbformat": 4,
  "nbformat_minor": 0,
  "metadata": {
    "colab": {
      "name": "TensorFlow5_Text-Generation.ipynb",
      "provenance": [],
      "collapsed_sections": [],
      "authorship_tag": "ABX9TyPtLmcY3RGQZ0d0fbglXhBj",
      "include_colab_link": true
    },
    "kernelspec": {
      "name": "python3",
      "display_name": "Python 3"
    },
    "accelerator": "GPU"
  },
  "cells": [
    {
      "cell_type": "markdown",
      "metadata": {
        "id": "view-in-github",
        "colab_type": "text"
      },
      "source": [
        "<a href=\"https://colab.research.google.com/github/utkarsh0702/Tensorflow/blob/master/TensorFlow5_Text_Generation.ipynb\" target=\"_parent\"><img src=\"https://colab.research.google.com/assets/colab-badge.svg\" alt=\"Open In Colab\"/></a>"
      ]
    },
    {
      "cell_type": "code",
      "metadata": {
        "id": "Wr6M7l3fw7fG",
        "colab_type": "code",
        "colab": {}
      },
      "source": [
        "import tensorflow as tf\n",
        "from tensorflow.keras.preprocessing.text import Tokenizer\n",
        "from tensorflow.keras.preprocessing.sequence import pad_sequences"
      ],
      "execution_count": 0,
      "outputs": []
    },
    {
      "cell_type": "code",
      "metadata": {
        "id": "pr6RDxDFm4p4",
        "colab_type": "code",
        "outputId": "e6db66fb-5f82-4bcb-a090-5fa91b74ba86",
        "colab": {
          "base_uri": "https://localhost:8080/",
          "height": 204
        }
      },
      "source": [
        "!wget --no-check-certificate https://storage.googleapis.com/laurencemoroney-blog.appspot.com/irish-lyrics-eof.txt -O /content/text.txt"
      ],
      "execution_count": 2,
      "outputs": [
        {
          "output_type": "stream",
          "text": [
            "--2020-04-09 12:35:55--  https://storage.googleapis.com/laurencemoroney-blog.appspot.com/irish-lyrics-eof.txt\n",
            "Resolving storage.googleapis.com (storage.googleapis.com)... 74.125.130.128, 2404:6800:4003:c02::80\n",
            "Connecting to storage.googleapis.com (storage.googleapis.com)|74.125.130.128|:443... connected.\n",
            "HTTP request sent, awaiting response... 200 OK\n",
            "Length: 68970 (67K) [text/plain]\n",
            "Saving to: ‘/content/text.txt’\n",
            "\n",
            "\r/content/text.txt     0%[                    ]       0  --.-KB/s               \r/content/text.txt   100%[===================>]  67.35K  --.-KB/s    in 0s      \n",
            "\n",
            "2020-04-09 12:35:55 (163 MB/s) - ‘/content/text.txt’ saved [68970/68970]\n",
            "\n"
          ],
          "name": "stdout"
        }
      ]
    },
    {
      "cell_type": "code",
      "metadata": {
        "id": "6ajHraJbz3-T",
        "colab_type": "code",
        "outputId": "f4e79a84-33db-4ee8-c208-b54913872289",
        "colab": {
          "base_uri": "https://localhost:8080/",
          "height": 51
        }
      },
      "source": [
        "data= open('/content/text.txt').readlines()\n",
        "print(data[12])"
      ],
      "execution_count": 3,
      "outputs": [
        {
          "output_type": "stream",
          "text": [
            "And stole my bunch of thyme away\n",
            "\n"
          ],
          "name": "stdout"
        }
      ]
    },
    {
      "cell_type": "code",
      "metadata": {
        "id": "eVhPmlcL1eoB",
        "colab_type": "code",
        "outputId": "ccaa451b-6fac-4a0b-881c-a7c2a34ba414",
        "colab": {
          "base_uri": "https://localhost:8080/",
          "height": 34
        }
      },
      "source": [
        "token= Tokenizer()\n",
        "token.fit_on_texts(data)\n",
        "total= len(token.word_index)+1\n",
        "print(total)"
      ],
      "execution_count": 4,
      "outputs": [
        {
          "output_type": "stream",
          "text": [
            "2690\n"
          ],
          "name": "stdout"
        }
      ]
    },
    {
      "cell_type": "code",
      "metadata": {
        "id": "psQEB6px2bRp",
        "colab_type": "code",
        "colab": {}
      },
      "source": [
        "import numpy as np\n",
        "\n",
        "input_sentence=[]\n",
        "for line in data:\n",
        "  token_list= token.texts_to_sequences([line])[0]\n",
        "  for i in range(1, len(token_list)):\n",
        "    n_gram_sequence= token_list[:i+1]\n",
        "    input_sentence.append(n_gram_sequence)\n",
        "\n",
        "max_sequence_length= max([len(x) for x in input_sentence])\n",
        "\n",
        "input_sequence= np.array(pad_sequences( input_sentence, maxlen= max_sequence_length, padding='pre'))"
      ],
      "execution_count": 0,
      "outputs": []
    },
    {
      "cell_type": "code",
      "metadata": {
        "id": "4PsBPHoo4AOI",
        "colab_type": "code",
        "colab": {}
      },
      "source": [
        "xs= input_sequence[:,:-1]\n",
        "labels= input_sequence[:,-1]\n",
        "\n",
        "#one hot encoding\n",
        "ys= tf.keras.utils.to_categorical(labels, num_classes=total)"
      ],
      "execution_count": 0,
      "outputs": []
    },
    {
      "cell_type": "code",
      "metadata": {
        "id": "uHoayacYIV6A",
        "colab_type": "code",
        "outputId": "a8621280-9632-4c6c-c88e-bb18dbd0a6c2",
        "colab": {
          "base_uri": "https://localhost:8080/",
          "height": 289
        }
      },
      "source": [
        "from tensorflow.keras.optimizers import Adam\n",
        "#model building\n",
        "model= tf.keras.Sequential([\n",
        "                            tf.keras.layers.Embedding(total, 16, input_length=max_sequence_length-1),\n",
        "                            tf.keras.layers.Bidirectional(tf.keras.layers.LSTM(32, return_sequences=True)),\n",
        "                            tf.keras.layers.Bidirectional(tf.keras.layers.LSTM(16)),\n",
        "                            tf.keras.layers.Dense(total, activation='softmax')\n",
        "])\n",
        "adam= Adam(lr=0.01)\n",
        "model.compile(loss='categorical_crossentropy', optimizer= adam, metrics=['accuracy'])\n",
        "model.summary()"
      ],
      "execution_count": 7,
      "outputs": [
        {
          "output_type": "stream",
          "text": [
            "Model: \"sequential\"\n",
            "_________________________________________________________________\n",
            "Layer (type)                 Output Shape              Param #   \n",
            "=================================================================\n",
            "embedding (Embedding)        (None, 15, 16)            43040     \n",
            "_________________________________________________________________\n",
            "bidirectional (Bidirectional (None, 15, 64)            12544     \n",
            "_________________________________________________________________\n",
            "bidirectional_1 (Bidirection (None, 32)                10368     \n",
            "_________________________________________________________________\n",
            "dense (Dense)                (None, 2690)              88770     \n",
            "=================================================================\n",
            "Total params: 154,722\n",
            "Trainable params: 154,722\n",
            "Non-trainable params: 0\n",
            "_________________________________________________________________\n"
          ],
          "name": "stdout"
        }
      ]
    },
    {
      "cell_type": "code",
      "metadata": {
        "id": "3eFCnEoqJrDp",
        "colab_type": "code",
        "outputId": "d9b95508-9f6c-4a75-d827-185c2eb8c72d",
        "colab": {
          "base_uri": "https://localhost:8080/",
          "height": 1000
        }
      },
      "source": [
        "history= model.fit(xs,ys, epochs=100, verbose=1)"
      ],
      "execution_count": 8,
      "outputs": [
        {
          "output_type": "stream",
          "text": [
            "Epoch 1/100\n",
            "377/377 [==============================] - 4s 10ms/step - loss: 6.7485 - accuracy: 0.0640\n",
            "Epoch 2/100\n",
            "377/377 [==============================] - 4s 10ms/step - loss: 6.2268 - accuracy: 0.0750\n",
            "Epoch 3/100\n",
            "377/377 [==============================] - 4s 10ms/step - loss: 5.9759 - accuracy: 0.0953\n",
            "Epoch 4/100\n",
            "377/377 [==============================] - 4s 10ms/step - loss: 5.7531 - accuracy: 0.1048\n",
            "Epoch 5/100\n",
            "377/377 [==============================] - 4s 10ms/step - loss: 5.5613 - accuracy: 0.1121\n",
            "Epoch 6/100\n",
            "377/377 [==============================] - 4s 10ms/step - loss: 5.3905 - accuracy: 0.1238\n",
            "Epoch 7/100\n",
            "377/377 [==============================] - 4s 10ms/step - loss: 5.2364 - accuracy: 0.1337\n",
            "Epoch 8/100\n",
            "377/377 [==============================] - 4s 10ms/step - loss: 5.1056 - accuracy: 0.1400\n",
            "Epoch 9/100\n",
            "377/377 [==============================] - 4s 10ms/step - loss: 4.9731 - accuracy: 0.1482\n",
            "Epoch 10/100\n",
            "377/377 [==============================] - 4s 10ms/step - loss: 4.8435 - accuracy: 0.1565\n",
            "Epoch 11/100\n",
            "377/377 [==============================] - 4s 10ms/step - loss: 4.7163 - accuracy: 0.1681\n",
            "Epoch 12/100\n",
            "377/377 [==============================] - 4s 10ms/step - loss: 4.6024 - accuracy: 0.1746\n",
            "Epoch 13/100\n",
            "377/377 [==============================] - 4s 10ms/step - loss: 4.4923 - accuracy: 0.1811\n",
            "Epoch 14/100\n",
            "377/377 [==============================] - 4s 10ms/step - loss: 4.3871 - accuracy: 0.1903\n",
            "Epoch 15/100\n",
            "377/377 [==============================] - 4s 11ms/step - loss: 4.2875 - accuracy: 0.1968\n",
            "Epoch 16/100\n",
            "377/377 [==============================] - 4s 11ms/step - loss: 4.1765 - accuracy: 0.2065\n",
            "Epoch 17/100\n",
            "377/377 [==============================] - 4s 11ms/step - loss: 4.0821 - accuracy: 0.2131\n",
            "Epoch 18/100\n",
            "377/377 [==============================] - 4s 10ms/step - loss: 3.9692 - accuracy: 0.2215\n",
            "Epoch 19/100\n",
            "377/377 [==============================] - 4s 10ms/step - loss: 3.8610 - accuracy: 0.2297\n",
            "Epoch 20/100\n",
            "377/377 [==============================] - 4s 10ms/step - loss: 3.7639 - accuracy: 0.2402\n",
            "Epoch 21/100\n",
            "377/377 [==============================] - 4s 10ms/step - loss: 3.6687 - accuracy: 0.2533\n",
            "Epoch 22/100\n",
            "377/377 [==============================] - 4s 10ms/step - loss: 3.5735 - accuracy: 0.2608\n",
            "Epoch 23/100\n",
            "377/377 [==============================] - 4s 10ms/step - loss: 3.4935 - accuracy: 0.2732\n",
            "Epoch 24/100\n",
            "377/377 [==============================] - 4s 10ms/step - loss: 3.4136 - accuracy: 0.2837\n",
            "Epoch 25/100\n",
            "377/377 [==============================] - 4s 10ms/step - loss: 3.3322 - accuracy: 0.2954\n",
            "Epoch 26/100\n",
            "377/377 [==============================] - 4s 10ms/step - loss: 3.2515 - accuracy: 0.3068\n",
            "Epoch 27/100\n",
            "377/377 [==============================] - 4s 10ms/step - loss: 3.1591 - accuracy: 0.3247\n",
            "Epoch 28/100\n",
            "377/377 [==============================] - 4s 10ms/step - loss: 3.0735 - accuracy: 0.3318\n",
            "Epoch 29/100\n",
            "377/377 [==============================] - 4s 10ms/step - loss: 3.0380 - accuracy: 0.3403\n",
            "Epoch 30/100\n",
            "377/377 [==============================] - 4s 10ms/step - loss: 2.9611 - accuracy: 0.3498\n",
            "Epoch 31/100\n",
            "377/377 [==============================] - 4s 10ms/step - loss: 2.8867 - accuracy: 0.3652\n",
            "Epoch 32/100\n",
            "377/377 [==============================] - 4s 10ms/step - loss: 2.8147 - accuracy: 0.3775\n",
            "Epoch 33/100\n",
            "377/377 [==============================] - 4s 10ms/step - loss: 2.7824 - accuracy: 0.3835\n",
            "Epoch 34/100\n",
            "377/377 [==============================] - 4s 10ms/step - loss: 2.6966 - accuracy: 0.3942\n",
            "Epoch 35/100\n",
            "377/377 [==============================] - 4s 10ms/step - loss: 2.6225 - accuracy: 0.4109\n",
            "Epoch 36/100\n",
            "377/377 [==============================] - 4s 10ms/step - loss: 2.6112 - accuracy: 0.4155\n",
            "Epoch 37/100\n",
            "377/377 [==============================] - 4s 10ms/step - loss: 2.5739 - accuracy: 0.4185\n",
            "Epoch 38/100\n",
            "377/377 [==============================] - 4s 10ms/step - loss: 2.5208 - accuracy: 0.4282\n",
            "Epoch 39/100\n",
            "377/377 [==============================] - 4s 10ms/step - loss: 2.4462 - accuracy: 0.4454\n",
            "Epoch 40/100\n",
            "377/377 [==============================] - 4s 10ms/step - loss: 2.3736 - accuracy: 0.4574\n",
            "Epoch 41/100\n",
            "377/377 [==============================] - 4s 10ms/step - loss: 2.3538 - accuracy: 0.4619\n",
            "Epoch 42/100\n",
            "377/377 [==============================] - 4s 10ms/step - loss: 2.3088 - accuracy: 0.4728\n",
            "Epoch 43/100\n",
            "377/377 [==============================] - 4s 10ms/step - loss: 2.2898 - accuracy: 0.4689\n",
            "Epoch 44/100\n",
            "377/377 [==============================] - 4s 10ms/step - loss: 2.2608 - accuracy: 0.4760\n",
            "Epoch 45/100\n",
            "377/377 [==============================] - 4s 10ms/step - loss: 2.2233 - accuracy: 0.4836\n",
            "Epoch 46/100\n",
            "377/377 [==============================] - 4s 10ms/step - loss: 2.1962 - accuracy: 0.4912\n",
            "Epoch 47/100\n",
            "377/377 [==============================] - 4s 10ms/step - loss: 2.1445 - accuracy: 0.5032\n",
            "Epoch 48/100\n",
            "377/377 [==============================] - 4s 10ms/step - loss: 2.1001 - accuracy: 0.5082\n",
            "Epoch 49/100\n",
            "377/377 [==============================] - 4s 10ms/step - loss: 2.1219 - accuracy: 0.5051\n",
            "Epoch 50/100\n",
            "377/377 [==============================] - 4s 10ms/step - loss: 2.1061 - accuracy: 0.5098\n",
            "Epoch 51/100\n",
            "377/377 [==============================] - 4s 10ms/step - loss: 2.0620 - accuracy: 0.5156\n",
            "Epoch 52/100\n",
            "377/377 [==============================] - 4s 10ms/step - loss: 2.0573 - accuracy: 0.5140\n",
            "Epoch 53/100\n",
            "377/377 [==============================] - 4s 10ms/step - loss: 2.0227 - accuracy: 0.5180\n",
            "Epoch 54/100\n",
            "377/377 [==============================] - 4s 10ms/step - loss: 1.9772 - accuracy: 0.5352\n",
            "Epoch 55/100\n",
            "377/377 [==============================] - 4s 10ms/step - loss: 1.9473 - accuracy: 0.5424\n",
            "Epoch 56/100\n",
            "377/377 [==============================] - 4s 10ms/step - loss: 1.9213 - accuracy: 0.5425\n",
            "Epoch 57/100\n",
            "377/377 [==============================] - 4s 10ms/step - loss: 1.9289 - accuracy: 0.5463\n",
            "Epoch 58/100\n",
            "377/377 [==============================] - 4s 10ms/step - loss: 1.9494 - accuracy: 0.5358\n",
            "Epoch 59/100\n",
            "377/377 [==============================] - 4s 10ms/step - loss: 1.9281 - accuracy: 0.5391\n",
            "Epoch 60/100\n",
            "377/377 [==============================] - 4s 10ms/step - loss: 1.8844 - accuracy: 0.5489\n",
            "Epoch 61/100\n",
            "377/377 [==============================] - 4s 10ms/step - loss: 1.8609 - accuracy: 0.5527\n",
            "Epoch 62/100\n",
            "377/377 [==============================] - 4s 10ms/step - loss: 1.8644 - accuracy: 0.5564\n",
            "Epoch 63/100\n",
            "377/377 [==============================] - 4s 10ms/step - loss: 1.8388 - accuracy: 0.5575\n",
            "Epoch 64/100\n",
            "377/377 [==============================] - 4s 10ms/step - loss: 1.8183 - accuracy: 0.5618\n",
            "Epoch 65/100\n",
            "377/377 [==============================] - 4s 10ms/step - loss: 1.8000 - accuracy: 0.5678\n",
            "Epoch 66/100\n",
            "377/377 [==============================] - 4s 10ms/step - loss: 1.8195 - accuracy: 0.5610\n",
            "Epoch 67/100\n",
            "377/377 [==============================] - 4s 10ms/step - loss: 1.7394 - accuracy: 0.5762\n",
            "Epoch 68/100\n",
            "377/377 [==============================] - 4s 10ms/step - loss: 1.7330 - accuracy: 0.5829\n",
            "Epoch 69/100\n",
            "377/377 [==============================] - 4s 10ms/step - loss: 1.7712 - accuracy: 0.5721\n",
            "Epoch 70/100\n",
            "377/377 [==============================] - 4s 10ms/step - loss: 1.7751 - accuracy: 0.5744\n",
            "Epoch 71/100\n",
            "377/377 [==============================] - 4s 10ms/step - loss: 1.7707 - accuracy: 0.5655\n",
            "Epoch 72/100\n",
            "377/377 [==============================] - 4s 10ms/step - loss: 1.7223 - accuracy: 0.5856\n",
            "Epoch 73/100\n",
            "377/377 [==============================] - 4s 10ms/step - loss: 1.7207 - accuracy: 0.5817\n",
            "Epoch 74/100\n",
            "377/377 [==============================] - 4s 10ms/step - loss: 1.6967 - accuracy: 0.5826\n",
            "Epoch 75/100\n",
            "377/377 [==============================] - 4s 10ms/step - loss: 1.6447 - accuracy: 0.6019\n",
            "Epoch 76/100\n",
            "377/377 [==============================] - 4s 10ms/step - loss: 1.6830 - accuracy: 0.5924\n",
            "Epoch 77/100\n",
            "377/377 [==============================] - 4s 10ms/step - loss: 1.6730 - accuracy: 0.5891\n",
            "Epoch 78/100\n",
            "377/377 [==============================] - 4s 10ms/step - loss: 1.7343 - accuracy: 0.5784\n",
            "Epoch 79/100\n",
            "377/377 [==============================] - 4s 10ms/step - loss: 1.7164 - accuracy: 0.5848\n",
            "Epoch 80/100\n",
            "377/377 [==============================] - 4s 10ms/step - loss: 1.6728 - accuracy: 0.5935\n",
            "Epoch 81/100\n",
            "377/377 [==============================] - 4s 10ms/step - loss: 1.6759 - accuracy: 0.5859\n",
            "Epoch 82/100\n",
            "377/377 [==============================] - 4s 10ms/step - loss: 1.6716 - accuracy: 0.5900\n",
            "Epoch 83/100\n",
            "377/377 [==============================] - 4s 10ms/step - loss: 1.6637 - accuracy: 0.5886\n",
            "Epoch 84/100\n",
            "377/377 [==============================] - 4s 10ms/step - loss: 1.6173 - accuracy: 0.6034\n",
            "Epoch 85/100\n",
            "377/377 [==============================] - 4s 10ms/step - loss: 1.5759 - accuracy: 0.6097\n",
            "Epoch 86/100\n",
            "377/377 [==============================] - 4s 10ms/step - loss: 1.6455 - accuracy: 0.5918\n",
            "Epoch 87/100\n",
            "377/377 [==============================] - 4s 10ms/step - loss: 1.6979 - accuracy: 0.5862\n",
            "Epoch 88/100\n",
            "377/377 [==============================] - 4s 10ms/step - loss: 1.6585 - accuracy: 0.5914\n",
            "Epoch 89/100\n",
            "377/377 [==============================] - 4s 10ms/step - loss: 1.6573 - accuracy: 0.5930\n",
            "Epoch 90/100\n",
            "377/377 [==============================] - 4s 10ms/step - loss: 1.5544 - accuracy: 0.6145\n",
            "Epoch 91/100\n",
            "377/377 [==============================] - 4s 10ms/step - loss: 1.5482 - accuracy: 0.6188\n",
            "Epoch 92/100\n",
            "377/377 [==============================] - 4s 10ms/step - loss: 1.5502 - accuracy: 0.6175\n",
            "Epoch 93/100\n",
            "377/377 [==============================] - 4s 10ms/step - loss: 1.6009 - accuracy: 0.6048\n",
            "Epoch 94/100\n",
            "377/377 [==============================] - 4s 10ms/step - loss: 1.5948 - accuracy: 0.6041\n",
            "Epoch 95/100\n",
            "377/377 [==============================] - 4s 10ms/step - loss: 1.5919 - accuracy: 0.6082\n",
            "Epoch 96/100\n",
            "377/377 [==============================] - 4s 10ms/step - loss: 1.5907 - accuracy: 0.6061\n",
            "Epoch 97/100\n",
            "377/377 [==============================] - 4s 10ms/step - loss: 1.5602 - accuracy: 0.6095\n",
            "Epoch 98/100\n",
            "377/377 [==============================] - 4s 10ms/step - loss: 1.5491 - accuracy: 0.6132\n",
            "Epoch 99/100\n",
            "377/377 [==============================] - 4s 10ms/step - loss: 1.5521 - accuracy: 0.6159\n",
            "Epoch 100/100\n",
            "377/377 [==============================] - 4s 10ms/step - loss: 1.5268 - accuracy: 0.6260\n"
          ],
          "name": "stdout"
        }
      ]
    },
    {
      "cell_type": "code",
      "metadata": {
        "id": "64P5E1lFXkMN",
        "colab_type": "code",
        "outputId": "53101b2b-7258-4e3a-a0f5-69107ca819a6",
        "colab": {
          "base_uri": "https://localhost:8080/",
          "height": 281
        }
      },
      "source": [
        "import matplotlib.pyplot as plt\n",
        "\n",
        "plt.plot(history.history['accuracy'])\n",
        "plt.plot(history.history['loss'])\n",
        "plt.xlabel(\"Epochs\")\n",
        "plt.ylabel('Accuracy or loss')\n",
        "plt.legend(['Accuracy', 'Loss'])\n",
        "plt.show()"
      ],
      "execution_count": 9,
      "outputs": [
        {
          "output_type": "display_data",
          "data": {
            "image/png": "[encoded data removed]",
            "text/plain": [
              "<Figure size 432x288 with 1 Axes>"
            ]
          },
          "metadata": {
            "tags": []
          }
        }
      ]
    },
    {
      "cell_type": "code",
      "metadata": {
        "id": "vAWxctCYYM97",
        "colab_type": "code",
        "outputId": "6aa926ca-81c6-4b3d-fa69-385eebbf83ab",
        "colab": {
          "base_uri": "https://localhost:8080/",
          "height": 105
        }
      },
      "source": [
        "seed_text='Utkarsh Lives in India'\n",
        "for _ in range(50):\n",
        "  token_list= token.texts_to_sequences([seed_text])[0]\n",
        "  token_list= pad_sequences([token_list], maxlen= max_sequence_length-1, padding='pre')\n",
        "  predict= model.predict_classes(token_list, verbose=0)\n",
        "  for word, index in token.word_index.items():\n",
        "    if index== predict:\n",
        "      output_word= word\n",
        "      break\n",
        "  seed_text+=' '+ output_word\n",
        "\n",
        "print(seed_text)"
      ],
      "execution_count": 10,
      "outputs": [
        {
          "output_type": "stream",
          "text": [
            "WARNING:tensorflow:From <ipython-input-10-d7fe4208e5b3>:5: Sequential.predict_classes (from tensorflow.python.keras.engine.sequential) is deprecated and will be removed after 2021-01-01.\n",
            "Instructions for updating:\n",
            "Please use instead:* `np.argmax(model.predict(x), axis=-1)`,   if your model does multi-class classification   (e.g. if it uses a `softmax` last-layer activation).* `(model.predict(x) > 0.5).astype(\"int32\")`,   if your model does binary classification   (e.g. if it uses a `sigmoid` last-layer activation).\n",
            "Utkarsh Lives in India my heart my true love they they sat to do you you say now how rings rings rest do we died so glen im rest to save me in black away oer your bower oer the hurley or now into i meet to the bower oer the name of now\n"
          ],
          "name": "stdout"
        }
      ]
    },
    {
      "cell_type": "code",
      "metadata": {
        "id": "uN-Gy46MqwLI",
        "colab_type": "code",
        "colab": {}
      },
      "source": [
        ""
      ],
      "execution_count": 0,
      "outputs": []
    }
  ]
}