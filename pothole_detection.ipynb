{
  "nbformat": 4,
  "nbformat_minor": 0,
  "metadata": {
    "colab": {
      "name": "pothole_detection.ipynb",
      "provenance": [],
      "collapsed_sections": [],
      "include_colab_link": true
    },
    "kernelspec": {
      "name": "python3",
      "display_name": "Python 3"
    },
    "accelerator": "GPU"
  },
  "cells": [
    {
      "cell_type": "markdown",
      "metadata": {
        "id": "view-in-github",
        "colab_type": "text"
      },
      "source": [
        "<a href=\"https://colab.research.google.com/github/utkarsh0702/Tensorflow/blob/master/pothole_detection.ipynb\" target=\"_parent\"><img src=\"https://colab.research.google.com/assets/colab-badge.svg\" alt=\"Open In Colab\"/></a>"
      ]
    },
    {
      "cell_type": "code",
      "metadata": {
        "id": "WQOA0hy_nu7t",
        "colab_type": "code",
        "colab": {}
      },
      "source": [
        "import tensorflow as tf\n",
        "import os\n",
        "from tensorflow import keras\n",
        "import zipfile\n",
        "from google.colab import files"
      ],
      "execution_count": 0,
      "outputs": []
    },
    {
      "cell_type": "code",
      "metadata": {
        "id": "GlGAO10P6sp3",
        "colab_type": "code",
        "outputId": "f10cf91f-ee6c-4de5-93e2-eceb75c0af60",
        "colab": {
          "base_uri": "https://localhost:8080/",
          "height": 34
        }
      },
      "source": [
        "device_name = tf.test.gpu_device_name()\n",
        "if device_name != '/device:GPU:0':\n",
        "  raise SystemError('GPU device not found')\n",
        "print('Found GPU at: {}'.format(device_name))"
      ],
      "execution_count": 0,
      "outputs": [
        {
          "output_type": "stream",
          "text": [
            "Found GPU at: /device:GPU:0\n"
          ],
          "name": "stdout"
        }
      ]
    },
    {
      "cell_type": "code",
      "metadata": {
        "id": "b72CO695nx8L",
        "colab_type": "code",
        "outputId": "7345da71-13d0-4c2d-8f95-064346f75dfd",
        "colab": {
          "base_uri": "https://localhost:8080/",
          "height": 34
        }
      },
      "source": [
        "from google.colab import drive\n",
        "drive.mount('/content/drive')"
      ],
      "execution_count": 0,
      "outputs": [
        {
          "output_type": "stream",
          "text": [
            "Mounted at /content/drive\n"
          ],
          "name": "stdout"
        }
      ]
    },
    {
      "cell_type": "code",
      "metadata": {
        "id": "AEHs89QH6zMw",
        "colab_type": "code",
        "colab": {}
      },
      "source": [
        "local_zip= '/content/drive/My Drive/datasets/data.zip'\n",
        "zip_ref= zipfile.ZipFile(local_zip, 'r')\n",
        "zip_ref.extractall('/content')\n",
        "zip_ref.close()"
      ],
      "execution_count": 0,
      "outputs": []
    },
    {
      "cell_type": "code",
      "metadata": {
        "id": "lMbiQugf7Fjh",
        "colab_type": "code",
        "colab": {}
      },
      "source": [
        "local_zip= '/content/drive/My Drive/datasets/Test_data.zip'\n",
        "zip_ref= zipfile.ZipFile(local_zip, 'r')\n",
        "zip_ref.extractall('/content')\n",
        "zip_ref.close()"
      ],
      "execution_count": 0,
      "outputs": []
    },
    {
      "cell_type": "code",
      "metadata": {
        "id": "yPB0tzH2msUa",
        "colab_type": "code",
        "colab": {}
      },
      "source": [
        "train_cats_dir= os.path.join('/content/data/Train data/Positive data')\n",
        "train_dogs_dir= os.path.join('/content/data/Train data/Negative data')\n",
        "test_cats_dir= os.path.join('/content/Test data/Positive data')\n",
        "test_dogs_dir= os.path.join('/content/Test data/Negative data')"
      ],
      "execution_count": 0,
      "outputs": []
    },
    {
      "cell_type": "code",
      "metadata": {
        "id": "8cgSY6q-xrYC",
        "colab_type": "code",
        "outputId": "52cf0001-8c79-422d-db97-f459a882986f",
        "colab": {
          "base_uri": "https://localhost:8080/",
          "height": 85
        }
      },
      "source": [
        "print('Total train cats images: ',len(os.listdir(train_cats_dir)))\n",
        "print('Total train dogs images: ',len(os.listdir(train_dogs_dir)))\n",
        "print('Total test cats images: ',len(os.listdir(test_cats_dir)))\n",
        "print('Total test dogs images: ',len(os.listdir(test_dogs_dir)))"
      ],
      "execution_count": 0,
      "outputs": [
        {
          "output_type": "stream",
          "text": [
            "Total train cats images:  1339\n",
            "Total train dogs images:  1401\n",
            "Total test cats images:  57\n",
            "Total test dogs images:  14\n"
          ],
          "name": "stdout"
        }
      ]
    },
    {
      "cell_type": "code",
      "metadata": {
        "id": "xJrtwHOvxwOa",
        "colab_type": "code",
        "outputId": "954677e7-23a0-45a5-871f-66c6983950e8",
        "colab": {
          "base_uri": "https://localhost:8080/",
          "height": 88
        }
      },
      "source": [
        "model= keras.Sequential([\n",
        "    keras.layers.Conv2D(16,(3,3), activation='relu', input_shape=(300,300,3)),\n",
        "    keras.layers.MaxPooling2D(2,2),\n",
        "    keras.layers.Conv2D(32,(3,3), activation='relu'),\n",
        "    keras.layers.MaxPooling2D(2,2),\n",
        "    keras.layers.Conv2D(64,(3,3), activation='relu'),\n",
        "    keras.layers.MaxPooling2D(2,2),\n",
        "    keras.layers.Flatten(),\n",
        "    keras.layers.Dense(512, activation='relu'),\n",
        "    keras.layers.Dropout(0.2),\n",
        "    keras.layers.Dense(1, activation='sigmoid')\n",
        "])"
      ],
      "execution_count": 0,
      "outputs": [
        {
          "output_type": "stream",
          "text": [
            "WARNING:tensorflow:From /usr/local/lib/python3.6/dist-packages/tensorflow/python/ops/init_ops.py:1251: calling VarianceScaling.__init__ (from tensorflow.python.ops.init_ops) with dtype is deprecated and will be removed in a future version.\n",
            "Instructions for updating:\n",
            "Call initializer instance with the dtype argument instead of passing it to the constructor\n"
          ],
          "name": "stdout"
        }
      ]
    },
    {
      "cell_type": "code",
      "metadata": {
        "id": "lzruIkWbx0fG",
        "colab_type": "code",
        "outputId": "cba06de2-c35a-46d3-e67c-a9c4f7596d01",
        "colab": {
          "base_uri": "https://localhost:8080/",
          "height": 493
        }
      },
      "source": [
        "model.summary()"
      ],
      "execution_count": 0,
      "outputs": [
        {
          "output_type": "stream",
          "text": [
            "Model: \"sequential\"\n",
            "_________________________________________________________________\n",
            "Layer (type)                 Output Shape              Param #   \n",
            "=================================================================\n",
            "conv2d (Conv2D)              (None, 298, 298, 16)      448       \n",
            "_________________________________________________________________\n",
            "max_pooling2d (MaxPooling2D) (None, 149, 149, 16)      0         \n",
            "_________________________________________________________________\n",
            "conv2d_1 (Conv2D)            (None, 147, 147, 32)      4640      \n",
            "_________________________________________________________________\n",
            "max_pooling2d_1 (MaxPooling2 (None, 73, 73, 32)        0         \n",
            "_________________________________________________________________\n",
            "conv2d_2 (Conv2D)            (None, 71, 71, 64)        18496     \n",
            "_________________________________________________________________\n",
            "max_pooling2d_2 (MaxPooling2 (None, 35, 35, 64)        0         \n",
            "_________________________________________________________________\n",
            "flatten (Flatten)            (None, 78400)             0         \n",
            "_________________________________________________________________\n",
            "dense (Dense)                (None, 512)               40141312  \n",
            "_________________________________________________________________\n",
            "dropout (Dropout)            (None, 512)               0         \n",
            "_________________________________________________________________\n",
            "dense_1 (Dense)              (None, 1)                 513       \n",
            "=================================================================\n",
            "Total params: 40,165,409\n",
            "Trainable params: 40,165,409\n",
            "Non-trainable params: 0\n",
            "_________________________________________________________________\n"
          ],
          "name": "stdout"
        }
      ]
    },
    {
      "cell_type": "code",
      "metadata": {
        "id": "WcOdTLRax5B_",
        "colab_type": "code",
        "outputId": "ba6186f7-1853-46cb-c854-36d7abe2dfc7",
        "colab": {
          "base_uri": "https://localhost:8080/",
          "height": 88
        }
      },
      "source": [
        "from tensorflow.keras.optimizers import RMSprop\n",
        "\n",
        "#compiling the model\n",
        "model.compile(loss='binary_crossentropy',\n",
        "             optimizer=RMSprop(lr=0.001),\n",
        "             metrics=['acc'])"
      ],
      "execution_count": 0,
      "outputs": [
        {
          "output_type": "stream",
          "text": [
            "WARNING:tensorflow:From /usr/local/lib/python3.6/dist-packages/tensorflow/python/ops/nn_impl.py:180: add_dispatch_support.<locals>.wrapper (from tensorflow.python.ops.array_ops) is deprecated and will be removed in a future version.\n",
            "Instructions for updating:\n",
            "Use tf.where in 2.0, which has the same broadcast rule as np.where\n"
          ],
          "name": "stdout"
        }
      ]
    },
    {
      "cell_type": "code",
      "metadata": {
        "id": "M-2aLvedx-7j",
        "colab_type": "code",
        "outputId": "f44b58b1-daed-464b-ad78-a282222e6018",
        "colab": {
          "base_uri": "https://localhost:8080/",
          "height": 51
        }
      },
      "source": [
        "from tensorflow.keras.preprocessing.image import ImageDataGenerator\n",
        "\n",
        "train_datagen= ImageDataGenerator(\n",
        "    rescale= 1./255,\n",
        "    rotation_range=40,\n",
        "    width_shift_range=0.2,\n",
        "    height_shift_range=0.2,\n",
        "    shear_range=0.2,\n",
        "    zoom_range=0.2,\n",
        "    horizontal_flip=True,\n",
        "    fill_mode='nearest'\n",
        ")\n",
        "train_gen= train_datagen.flow_from_directory( '/content/data/Train data',\n",
        "                                            target_size=(300,300),\n",
        "                                            batch_size=161,\n",
        "                                            class_mode='binary')\n",
        "\n",
        "test_datagen= ImageDataGenerator(\n",
        "    rescale= 1./255,\n",
        "    rotation_range=40,\n",
        "    width_shift_range=0.2,\n",
        "    height_shift_range=0.2,\n",
        "    shear_range=0.2,\n",
        "    zoom_range=0.2,\n",
        "    horizontal_flip=True,\n",
        "    fill_mode='nearest'\n",
        ")\n",
        "test_gen= test_datagen.flow_from_directory( '/content/Test data',\n",
        "                                            target_size=(300,300),\n",
        "                                            batch_size=3,\n",
        "                                            class_mode='binary')"
      ],
      "execution_count": 0,
      "outputs": [
        {
          "output_type": "stream",
          "text": [
            "Found 2737 images belonging to 2 classes.\n",
            "Found 71 images belonging to 2 classes.\n"
          ],
          "name": "stdout"
        }
      ]
    },
    {
      "cell_type": "code",
      "metadata": {
        "id": "MrS98TziyEMg",
        "colab_type": "code",
        "outputId": "486ee1c3-008f-4ad8-d2c6-7a1d6ab5255f",
        "colab": {
          "base_uri": "https://localhost:8080/",
          "height": 527
        }
      },
      "source": [
        "history= model.fit_generator( train_gen,\n",
        "                   steps_per_epoch=50,\n",
        "                   epochs=15,\n",
        "                   validation_data= test_gen,\n",
        "                   validation_steps= 50,\n",
        "                   verbose=2 )"
      ],
      "execution_count": 0,
      "outputs": [
        {
          "output_type": "stream",
          "text": [
            "Epoch 1/15\n",
            "50/50 - 1597s - loss: 0.6570 - acc: 0.6266 - val_loss: 0.5902 - val_acc: 0.7905\n",
            "Epoch 2/15\n",
            "50/50 - 1359s - loss: 0.6030 - acc: 0.7055 - val_loss: 0.5700 - val_acc: 0.7027\n",
            "Epoch 3/15\n",
            "50/50 - 1356s - loss: 0.5338 - acc: 0.7460 - val_loss: 0.6108 - val_acc: 0.7027\n",
            "Epoch 4/15\n",
            "50/50 - 1363s - loss: 0.4673 - acc: 0.7851 - val_loss: 0.7819 - val_acc: 0.5946\n",
            "Epoch 5/15\n",
            "50/50 - 1366s - loss: 0.4251 - acc: 0.8108 - val_loss: 0.7236 - val_acc: 0.7635\n",
            "Epoch 6/15\n",
            "50/50 - 1361s - loss: 0.4121 - acc: 0.8211 - val_loss: 0.5727 - val_acc: 0.7703\n",
            "Epoch 7/15\n",
            "50/50 - 1354s - loss: 0.3764 - acc: 0.8352 - val_loss: 0.6246 - val_acc: 0.7568\n",
            "Epoch 8/15\n",
            "50/50 - 1356s - loss: 0.3685 - acc: 0.8436 - val_loss: 0.6562 - val_acc: 0.7905\n",
            "Epoch 9/15\n",
            "50/50 - 1356s - loss: 0.3516 - acc: 0.8516 - val_loss: 0.7832 - val_acc: 0.7635\n",
            "Epoch 10/15\n",
            "50/50 - 1352s - loss: 0.3518 - acc: 0.8475 - val_loss: 0.7867 - val_acc: 0.7905\n",
            "Epoch 11/15\n",
            "50/50 - 1351s - loss: 0.3343 - acc: 0.8585 - val_loss: 0.8717 - val_acc: 0.7703\n",
            "Epoch 12/15\n",
            "50/50 - 1349s - loss: 0.3283 - acc: 0.8676 - val_loss: 0.8474 - val_acc: 0.7230\n",
            "Epoch 13/15\n",
            "50/50 - 1353s - loss: 0.3177 - acc: 0.8702 - val_loss: 0.8974 - val_acc: 0.7703\n",
            "Epoch 14/15\n",
            "50/50 - 1351s - loss: 0.3175 - acc: 0.8725 - val_loss: 0.8140 - val_acc: 0.7973\n",
            "Epoch 15/15\n",
            "50/50 - 1365s - loss: 0.3236 - acc: 0.8691 - val_loss: 0.7050 - val_acc: 0.7703\n"
          ],
          "name": "stdout"
        }
      ]
    },
    {
      "cell_type": "code",
      "metadata": {
        "id": "oNz8OcJQyJAC",
        "colab_type": "code",
        "colab": {}
      },
      "source": [
        "import numpy as np\n",
        "from google.colab import files\n",
        "from tensorflow.keras.preprocessing import image\n",
        "import matplotlib.pyplot as plt"
      ],
      "execution_count": 0,
      "outputs": []
    },
    {
      "cell_type": "code",
      "metadata": {
        "id": "rU0Km-AqyN4h",
        "colab_type": "code",
        "colab": {}
      },
      "source": [
        "uploaded= files.upload()\n",
        "\n",
        "for fn in uploaded.keys():\n",
        "  # predict image\n",
        "  path='/content/' + fn\n",
        "  img= image.load_img(path, target_size=(300,300))\n",
        "  plt.axis('off')\n",
        "  plt.imshow(img)\n",
        "  plt.show()\n",
        "  x= image.img_to_array(img)\n",
        "  x= np.expand_dims(x, axis=0)\n",
        "  \n",
        "  images= np.vstack([x])\n",
        "  classes= model.predict(images, batch_size=10)\n",
        "  print(classes[0])\n",
        "  if(classes[0]>0.5):\n",
        "    print('The image is of a cat')\n",
        "    \n",
        "  else:\n",
        "    print('The image is of a dog')\n",
        "  "
      ],
      "execution_count": 0,
      "outputs": []
    },
    {
      "cell_type": "code",
      "metadata": {
        "id": "hl6uuAyrySjm",
        "colab_type": "code",
        "outputId": "3b8e239a-6100-4c2d-f6ef-9764dce8b0bd",
        "colab": {
          "base_uri": "https://localhost:8080/",
          "height": 545
        }
      },
      "source": [
        "acc= history.history['acc']\n",
        "val_acc= history.history['val_acc']\n",
        "loss= history.history['loss']\n",
        "val_loss= history.history['val_loss']\n",
        "\n",
        "epochs= range(len(acc))\n",
        "plt.plot(epochs, acc, label='Accuracy')\n",
        "plt.plot(epochs, val_acc, label=' Test Accuracy')\n",
        "plt.title('Training and validation accuracy')\n",
        "plt.legend(loc='best')\n",
        "plt.show()\n",
        "\n",
        "plt.plot(epochs, loss, label='Loss')\n",
        "plt.plot(epochs, val_loss, label='Test Loss')\n",
        "plt.title('Training and validation loss')\n",
        "plt.legend(loc='best')\n",
        "plt.show()"
      ],
      "execution_count": 0,
      "outputs": [
        {
          "output_type": "display_data",
          "data": {
            "image/png": "[encoded data removed]",
            "text/plain": [
              "<Figure size 432x288 with 1 Axes>"
            ]
          },
          "metadata": {
            "tags": []
          }
        },
        {
          "output_type": "display_data",
          "data": {
            "image/png": "[encoded data removed]",
            "text/plain": [
              "<Figure size 432x288 with 1 Axes>"
            ]
          },
          "metadata": {
            "tags": []
          }
        }
      ]
    },
    {
      "cell_type": "code",
      "metadata": {
        "id": "RmKoKaNRw5qO",
        "colab_type": "code",
        "colab": {}
      },
      "source": [
        "!pip install -U -q PyDrive\n",
        "from pydrive.auth import GoogleAuth\n",
        "from pydrive.drive import GoogleDrive\n",
        "from google.colab import auth\n",
        "from oauth2client.client import GoogleCredentials"
      ],
      "execution_count": 0,
      "outputs": []
    },
    {
      "cell_type": "code",
      "metadata": {
        "id": "6G8aLuETxsv6",
        "colab_type": "code",
        "colab": {}
      },
      "source": [
        "auth.authenticate_user()\n",
        "gauth= GoogleAuth()\n",
        "gauth.credentials= GoogleCredentials.get_application_default()\n",
        "drive= GoogleDrive(gauth)"
      ],
      "execution_count": 0,
      "outputs": []
    },
    {
      "cell_type": "code",
      "metadata": {
        "id": "g_q5gPjgpzpC",
        "colab_type": "code",
        "outputId": "7785b831-5ad5-4547-997c-e6a0fcd6331d",
        "colab": {
          "base_uri": "https://localhost:8080/",
          "height": 34
        }
      },
      "source": [
        "model.save('model.pt')\n",
        "model_file= drive.CreateFile({'title':'model.pt'})\n",
        "model_file.SetContentFile('model.pt')\n",
        "model_file.Upload()\n",
        "drive.CreateFile({'id':model_file.get('id')})"
      ],
      "execution_count": 0,
      "outputs": [
        {
          "output_type": "execute_result",
          "data": {
            "text/plain": [
              "GoogleDriveFile({'id': '1eQIoCfSAevNbJPXPZmCO4JbaATEE6mm4'})"
            ]
          },
          "metadata": {
            "tags": []
          },
          "execution_count": 37
        }
      ]
    },
    {
      "cell_type": "code",
      "metadata": {
        "id": "jM10dkqh-JSZ",
        "colab_type": "code",
        "outputId": "c1562106-ef69-4e3d-ed0e-4ca934cd77d3",
        "colab": {
          "base_uri": "https://localhost:8080/",
          "height": 34
        }
      },
      "source": [
        "print(model)"
      ],
      "execution_count": 0,
      "outputs": [
        {
          "output_type": "stream",
          "text": [
            "<tensorflow.python.keras.engine.sequential.Sequential object at 0x7f33402bfcf8>\n"
          ],
          "name": "stdout"
        }
      ]
    }
  ]
}