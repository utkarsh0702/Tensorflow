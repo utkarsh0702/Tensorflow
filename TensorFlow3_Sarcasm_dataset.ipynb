{
  "nbformat": 4,
  "nbformat_minor": 0,
  "metadata": {
    "colab": {
      "name": "TensorFlow3_Sarcasm-dataset.ipynb",
      "provenance": [],
      "collapsed_sections": [],
      "authorship_tag": "ABX9TyMl3A1tBAW1DTwMkxm/EXId",
      "include_colab_link": true
    },
    "kernelspec": {
      "name": "python3",
      "display_name": "Python 3"
    }
  },
  "cells": [
    {
      "cell_type": "markdown",
      "metadata": {
        "id": "view-in-github",
        "colab_type": "text"
      },
      "source": [
        "<a href=\"https://colab.research.google.com/github/utkarsh0702/Tensorflow/blob/master/TensorFlow3_Sarcasm_dataset.ipynb\" target=\"_parent\"><img src=\"https://colab.research.google.com/assets/colab-badge.svg\" alt=\"Open In Colab\"/></a>"
      ]
    },
    {
      "cell_type": "code",
      "metadata": {
        "id": "OrTt6lsHYJae",
        "colab_type": "code",
        "colab": {}
      },
      "source": [
        "import json\n",
        "import tensorflow as tf\n",
        "from tensorflow.keras.preprocessing.text import Tokenizer\n",
        "from tensorflow.keras.preprocessing.sequence import pad_sequences"
      ],
      "execution_count": 0,
      "outputs": []
    },
    {
      "cell_type": "code",
      "metadata": {
        "id": "Z-37LHLraJeL",
        "colab_type": "code",
        "outputId": "d4438a9c-aada-4584-da5d-a0cc6162d04a",
        "colab": {
          "base_uri": "https://localhost:8080/",
          "height": 204
        }
      },
      "source": [
        "!wget --no-check-certificate https://storage.googleapis.com/laurencemoroney-blog.appspot.com/sarcasm.json -O /content/sarcasm.json"
      ],
      "execution_count": 2,
      "outputs": [
        {
          "output_type": "stream",
          "text": [
            "--2020-04-06 06:08:24--  https://storage.googleapis.com/laurencemoroney-blog.appspot.com/sarcasm.json\n",
            "Resolving storage.googleapis.com (storage.googleapis.com)... 74.125.139.128, 2607:f8b0:400c:c15::80\n",
            "Connecting to storage.googleapis.com (storage.googleapis.com)|74.125.139.128|:443... connected.\n",
            "HTTP request sent, awaiting response... 200 OK\n",
            "Length: 5643545 (5.4M) [application/json]\n",
            "Saving to: ‘/content/sarcasm.json’\n",
            "\n",
            "\r/content/sarcasm.js   0%[                    ]       0  --.-KB/s               \r/content/sarcasm.js 100%[===================>]   5.38M  --.-KB/s    in 0.08s   \n",
            "\n",
            "2020-04-06 06:08:24 (71.3 MB/s) - ‘/content/sarcasm.json’ saved [5643545/5643545]\n",
            "\n"
          ],
          "name": "stdout"
        }
      ]
    },
    {
      "cell_type": "code",
      "metadata": {
        "id": "OUDwnrUCaRXF",
        "colab_type": "code",
        "colab": {}
      },
      "source": [
        "import numpy as np\n",
        "\n",
        "#Hyperparameters\n",
        "vocab_size= 1000\n",
        "embedding_dim=16\n",
        "max_length=16\n",
        "trunc_type='post'\n",
        "oov_tok= '<OOV>'\n",
        "training_size=20000\n",
        "\n",
        "with open('/content/sarcasm.json') as f:\n",
        "  data= json.load(f)\n",
        "sentences=[]\n",
        "labels=[]\n",
        "\n",
        "for items in data:\n",
        "  sentences.append(items['headline'])\n",
        "  labels.append(items['is_sarcastic'])\n",
        "\n",
        "train_sentence= sentences[0:training_size]\n",
        "test_sentence= sentences[training_size:]\n",
        "train_label= labels[0:training_size]\n",
        "test_label= labels[training_size:]\n",
        "train_label_final= np.array(train_label)\n",
        "test_label_final= np.array(test_label)"
      ],
      "execution_count": 0,
      "outputs": []
    },
    {
      "cell_type": "code",
      "metadata": {
        "id": "0_uFtiW5bnOF",
        "colab_type": "code",
        "colab": {}
      },
      "source": [
        "token= Tokenizer(num_words=vocab_size, oov_token= oov_tok)\n",
        "token.fit_on_texts(train_sentence)\n",
        "word_index= token.word_index\n",
        "#for training data\n",
        "sequences= token.texts_to_sequences(train_sentence)\n",
        "padded= pad_sequences(sequences, maxlen=max_length,padding='post', truncating=trunc_type)\n",
        "#for testing data\n",
        "test_sequences= token.texts_to_sequences(test_sentence)\n",
        "test_padded= pad_sequences(test_sequences,padding='post', maxlen=max_length)"
      ],
      "execution_count": 0,
      "outputs": []
    },
    {
      "cell_type": "code",
      "metadata": {
        "id": "4mO-0hH0khxR",
        "colab_type": "code",
        "outputId": "ef435a4e-2566-4f0b-a2e9-c3553de80699",
        "colab": {
          "base_uri": "https://localhost:8080/",
          "height": 289
        }
      },
      "source": [
        "#Model building\n",
        "model= tf.keras.Sequential([\n",
        "                            tf.keras.layers.Embedding(vocab_size, embedding_dim, input_length= max_length),\n",
        "                            tf.keras.layers.GlobalAveragePooling1D(),\n",
        "                            tf.keras.layers.Dense(6, activation='relu'),\n",
        "                            tf.keras.layers.Dense(1, activation='sigmoid')\n",
        "])\n",
        "model.compile(loss='binary_crossentropy', optimizer='adam', metrics=['accuracy'])\n",
        "model.summary()"
      ],
      "execution_count": 5,
      "outputs": [
        {
          "output_type": "stream",
          "text": [
            "Model: \"sequential\"\n",
            "_________________________________________________________________\n",
            "Layer (type)                 Output Shape              Param #   \n",
            "=================================================================\n",
            "embedding (Embedding)        (None, 16, 16)            16000     \n",
            "_________________________________________________________________\n",
            "global_average_pooling1d (Gl (None, 16)                0         \n",
            "_________________________________________________________________\n",
            "dense (Dense)                (None, 6)                 102       \n",
            "_________________________________________________________________\n",
            "dense_1 (Dense)              (None, 1)                 7         \n",
            "=================================================================\n",
            "Total params: 16,109\n",
            "Trainable params: 16,109\n",
            "Non-trainable params: 0\n",
            "_________________________________________________________________\n"
          ],
          "name": "stdout"
        }
      ]
    },
    {
      "cell_type": "code",
      "metadata": {
        "id": "KCAkaArInUhE",
        "colab_type": "code",
        "outputId": "1d93977b-428a-4069-f0c6-07b20265de90",
        "colab": {
          "base_uri": "https://localhost:8080/",
          "height": 357
        }
      },
      "source": [
        "history=model.fit(padded,\n",
        "          train_label_final,\n",
        "          epochs=10,\n",
        "          validation_data=(test_padded, test_label_final))"
      ],
      "execution_count": 6,
      "outputs": [
        {
          "output_type": "stream",
          "text": [
            "Epoch 1/10\n",
            "625/625 [==============================] - 1s 2ms/step - loss: 0.5601 - accuracy: 0.7125 - val_loss: 0.4295 - val_accuracy: 0.8037\n",
            "Epoch 2/10\n",
            "625/625 [==============================] - 1s 2ms/step - loss: 0.3888 - accuracy: 0.8242 - val_loss: 0.4010 - val_accuracy: 0.8126\n",
            "Epoch 3/10\n",
            "625/625 [==============================] - 1s 2ms/step - loss: 0.3649 - accuracy: 0.8356 - val_loss: 0.3994 - val_accuracy: 0.8144\n",
            "Epoch 4/10\n",
            "625/625 [==============================] - 1s 2ms/step - loss: 0.3572 - accuracy: 0.8382 - val_loss: 0.4013 - val_accuracy: 0.8098\n",
            "Epoch 5/10\n",
            "625/625 [==============================] - 1s 2ms/step - loss: 0.3537 - accuracy: 0.8409 - val_loss: 0.4032 - val_accuracy: 0.8113\n",
            "Epoch 6/10\n",
            "625/625 [==============================] - 1s 2ms/step - loss: 0.3509 - accuracy: 0.8411 - val_loss: 0.4037 - val_accuracy: 0.8135\n",
            "Epoch 7/10\n",
            "625/625 [==============================] - 1s 2ms/step - loss: 0.3487 - accuracy: 0.8419 - val_loss: 0.4045 - val_accuracy: 0.8123\n",
            "Epoch 8/10\n",
            "625/625 [==============================] - 1s 2ms/step - loss: 0.3476 - accuracy: 0.8413 - val_loss: 0.4065 - val_accuracy: 0.8088\n",
            "Epoch 9/10\n",
            "625/625 [==============================] - 1s 2ms/step - loss: 0.3459 - accuracy: 0.8425 - val_loss: 0.4048 - val_accuracy: 0.8107\n",
            "Epoch 10/10\n",
            "625/625 [==============================] - 1s 2ms/step - loss: 0.3448 - accuracy: 0.8436 - val_loss: 0.4064 - val_accuracy: 0.8141\n"
          ],
          "name": "stdout"
        }
      ]
    },
    {
      "cell_type": "code",
      "metadata": {
        "id": "FUQD72FznyX9",
        "colab_type": "code",
        "outputId": "d382c37e-d114-4907-ad18-3d1b05283772",
        "colab": {
          "base_uri": "https://localhost:8080/",
          "height": 541
        }
      },
      "source": [
        "import matplotlib.pyplot as plt\n",
        "\n",
        "def plot_graph(history, string):\n",
        "  plt.plot(history.history[string])\n",
        "  plt.plot(history.history[\"val_\"+string])\n",
        "  plt.xlabel(\"Epochs\")\n",
        "  plt.ylabel(string)\n",
        "  plt.legend([string,\"val_\"+string])\n",
        "  plt.show()\n",
        "\n",
        "plot_graph(history, \"accuracy\")\n",
        "plot_graph(history, \"loss\")"
      ],
      "execution_count": 7,
      "outputs": [
        {
          "output_type": "display_data",
          "data": {
            "image/png": "[encoded data removed]",
            "text/plain": [
              "<Figure size 432x288 with 1 Axes>"
            ]
          },
          "metadata": {
            "tags": []
          }
        },
        {
          "output_type": "display_data",
          "data": {
            "image/png": "[encoded data removed]",
            "text/plain": [
              "<Figure size 432x288 with 1 Axes>"
            ]
          },
          "metadata": {
            "tags": []
          }
        }
      ]
    },
    {
      "cell_type": "code",
      "metadata": {
        "id": "Ix-O17g5tnja",
        "colab_type": "code",
        "colab": {}
      },
      "source": [
        ""
      ],
      "execution_count": 0,
      "outputs": []
    }
  ]
}