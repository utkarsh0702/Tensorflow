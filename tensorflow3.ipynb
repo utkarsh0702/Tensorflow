{
 "cells": [
  {
   "cell_type": "code",
   "execution_count": 1,
   "metadata": {},
   "outputs": [],
   "source": [
    "import tensorflow as tf"
   ]
  },
  {
   "cell_type": "code",
   "execution_count": 3,
   "metadata": {},
   "outputs": [
    {
     "name": "stdout",
     "output_type": "stream",
     "text": [
      "1.13.1\n"
     ]
    }
   ],
   "source": [
    "print(tf.__version__ )"
   ]
  },
  {
   "cell_type": "code",
   "execution_count": 4,
   "metadata": {},
   "outputs": [
    {
     "name": "stdout",
     "output_type": "stream",
     "text": [
      "4.0\n"
     ]
    }
   ],
   "source": [
    "#geometric mean of two numbers\n",
    "#define the input\n",
    "#placeholders are for assigning the values later\n",
    "x= tf.placeholder(tf.float32)\n",
    "y= tf.placeholder(tf.float32)\n",
    "\n",
    "#define the graph\n",
    "g_mean= tf.sqrt(x*y)\n",
    "\n",
    "#run this in a session\n",
    "with tf.Session() as sess:\n",
    "    res= sess.run(g_mean, feed_dict={x: 2.0, y:8.0})\n",
    "    print(res)"
   ]
  },
  {
   "cell_type": "code",
   "execution_count": 5,
   "metadata": {},
   "outputs": [
    {
     "name": "stdout",
     "output_type": "stream",
     "text": [
      "WARNING:tensorflow:From C:\\Users\\Utkarsh\\Anaconda3\\lib\\site-packages\\tensorflow\\python\\framework\\op_def_library.py:263: colocate_with (from tensorflow.python.framework.ops) is deprecated and will be removed in a future version.\n",
      "Instructions for updating:\n",
      "Colocations handled automatically by placer.\n",
      "0.2\n"
     ]
    }
   ],
   "source": [
    "# Variable can change during execution whereas the Constants donot change\n",
    "x= tf.placeholder(tf.float32)\n",
    "\n",
    "with tf.variable_scope(\"linear_model\", reuse=tf.AUTO_REUSE):\n",
    "    w= tf.get_variable(\"weight\", dtype=tf.float32, initializer=tf.constant(0.1))\n",
    "    b= tf.get_variable(\"bias\", dtype=tf.float32, initializer=tf.constant(0.0))\n",
    "    model= x*w+b\n",
    "    \n",
    "with tf.Session() as sess:\n",
    "    sess.run(tf.global_variables_initializer())\n",
    "    res= sess.run(model, feed_dict={x: 2.0})\n",
    "    print(res)"
   ]
  },
  {
   "cell_type": "code",
   "execution_count": null,
   "metadata": {},
   "outputs": [],
   "source": []
  }
 ],
 "metadata": {
  "kernelspec": {
   "display_name": "Python 3",
   "language": "python",
   "name": "python3"
  },
  "language_info": {
   "codemirror_mode": {
    "name": "ipython",
    "version": 3
   },
   "file_extension": ".py",
   "mimetype": "text/x-python",
   "name": "python",
   "nbconvert_exporter": "python",
   "pygments_lexer": "ipython3",
   "version": "3.7.3"
  }
 },
 "nbformat": 4,
 "nbformat_minor": 2
}
