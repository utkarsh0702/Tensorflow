{
  "nbformat": 4,
  "nbformat_minor": 0,
  "metadata": {
    "accelerator": "GPU",
    "colab": {
      "name": "Dog Breed Identification.ipynb",
      "provenance": [],
      "collapsed_sections": [],
      "authorship_tag": "ABX9TyMadnyPcRYs2INzI1LztCOP",
      "include_colab_link": true
    },
    "kernelspec": {
      "display_name": "Python 3",
      "name": "python3"
    }
  },
  "cells": [
    {
      "cell_type": "markdown",
      "metadata": {
        "id": "view-in-github",
        "colab_type": "text"
      },
      "source": [
        "<a href=\"https://colab.research.google.com/github/utkarsh0702/Tensorflow/blob/master/Dog_Breed_Identification.ipynb\" target=\"_parent\"><img src=\"https://colab.research.google.com/assets/colab-badge.svg\" alt=\"Open In Colab\"/></a>"
      ]
    },
    {
      "cell_type": "code",
      "metadata": {
        "id": "BhB1lvCRmywn"
      },
      "source": [
        "import tensorflow as tf\r\n",
        "import os\r\n",
        "from tensorflow import keras\r\n",
        "import zipfile\r\n",
        "from google.colab import files\r\n",
        "import pandas as pd\r\n",
        "import numpy as np\r\n",
        "from google.colab import files\r\n",
        "from tensorflow.keras.preprocessing import image\r\n",
        "import matplotlib.pyplot as plt\r\n",
        "import matplotlib as mpl"
      ],
      "execution_count": 54,
      "outputs": []
    },
    {
      "cell_type": "code",
      "metadata": {
        "id": "UxW1qKR7TlPt"
      },
      "source": [
        "mpl.rcParams['figure.figsize'] = (10,8)"
      ],
      "execution_count": 55,
      "outputs": []
    },
    {
      "cell_type": "code",
      "metadata": {
        "colab": {
          "base_uri": "https://localhost:8080/"
        },
        "id": "f6-U-nnlm-jU",
        "outputId": "4a72a5e4-75b2-4947-c87f-d2ea98daf943"
      },
      "source": [
        "device_name = tf.test.gpu_device_name()\r\n",
        "if device_name != '/device:GPU:0':\r\n",
        "  raise SystemError('GPU device not found')\r\n",
        "print('Found GPU at: {}'.format(device_name))"
      ],
      "execution_count": 56,
      "outputs": [
        {
          "output_type": "stream",
          "text": [
            "Found GPU at: /device:GPU:0\n"
          ],
          "name": "stdout"
        }
      ]
    },
    {
      "cell_type": "code",
      "metadata": {
        "colab": {
          "base_uri": "https://localhost:8080/"
        },
        "id": "Hgpfs28YnH8P",
        "outputId": "aabc5bfc-15ba-4647-ae9c-31caea6fa0f7"
      },
      "source": [
        "from google.colab import drive\r\n",
        "drive.mount('/content/drive')"
      ],
      "execution_count": 57,
      "outputs": [
        {
          "output_type": "stream",
          "text": [
            "Drive already mounted at /content/drive; to attempt to forcibly remount, call drive.mount(\"/content/drive\", force_remount=True).\n"
          ],
          "name": "stdout"
        }
      ]
    },
    {
      "cell_type": "code",
      "metadata": {
        "id": "qvWwQeFbnH3V"
      },
      "source": [
        "local_zip= '/content/drive/My Drive/datasets/dog-breed-identification.zip'\r\n",
        "zip_ref= zipfile.ZipFile(local_zip, 'r')\r\n",
        "zip_ref.extractall('/content')\r\n",
        "zip_ref.close()"
      ],
      "execution_count": null,
      "outputs": []
    },
    {
      "cell_type": "code",
      "metadata": {
        "colab": {
          "base_uri": "https://localhost:8080/",
          "height": 419
        },
        "id": "JbbjgclGnHzJ",
        "outputId": "af1a8a4a-d7d4-41c1-b131-0f66b2b77ac3"
      },
      "source": [
        "df= pd.read_csv('labels.csv')\r\n",
        "df"
      ],
      "execution_count": 58,
      "outputs": [
        {
          "output_type": "execute_result",
          "data": {
            "text/html": [
              "<div>\n",
              "<style scoped>\n",
              "    .dataframe tbody tr th:only-of-type {\n",
              "        vertical-align: middle;\n",
              "    }\n",
              "\n",
              "    .dataframe tbody tr th {\n",
              "        vertical-align: top;\n",
              "    }\n",
              "\n",
              "    .dataframe thead th {\n",
              "        text-align: right;\n",
              "    }\n",
              "</style>\n",
              "<table border=\"1\" class=\"dataframe\">\n",
              "  <thead>\n",
              "    <tr style=\"text-align: right;\">\n",
              "      <th></th>\n",
              "      <th>id</th>\n",
              "      <th>breed</th>\n",
              "    </tr>\n",
              "  </thead>\n",
              "  <tbody>\n",
              "    <tr>\n",
              "      <th>0</th>\n",
              "      <td>000bec180eb18c7604dcecc8fe0dba07</td>\n",
              "      <td>boston_bull</td>\n",
              "    </tr>\n",
              "    <tr>\n",
              "      <th>1</th>\n",
              "      <td>001513dfcb2ffafc82cccf4d8bbaba97</td>\n",
              "      <td>dingo</td>\n",
              "    </tr>\n",
              "    <tr>\n",
              "      <th>2</th>\n",
              "      <td>001cdf01b096e06d78e9e5112d419397</td>\n",
              "      <td>pekinese</td>\n",
              "    </tr>\n",
              "    <tr>\n",
              "      <th>3</th>\n",
              "      <td>00214f311d5d2247d5dfe4fe24b2303d</td>\n",
              "      <td>bluetick</td>\n",
              "    </tr>\n",
              "    <tr>\n",
              "      <th>4</th>\n",
              "      <td>0021f9ceb3235effd7fcde7f7538ed62</td>\n",
              "      <td>golden_retriever</td>\n",
              "    </tr>\n",
              "    <tr>\n",
              "      <th>...</th>\n",
              "      <td>...</td>\n",
              "      <td>...</td>\n",
              "    </tr>\n",
              "    <tr>\n",
              "      <th>10217</th>\n",
              "      <td>ffd25009d635cfd16e793503ac5edef0</td>\n",
              "      <td>borzoi</td>\n",
              "    </tr>\n",
              "    <tr>\n",
              "      <th>10218</th>\n",
              "      <td>ffd3f636f7f379c51ba3648a9ff8254f</td>\n",
              "      <td>dandie_dinmont</td>\n",
              "    </tr>\n",
              "    <tr>\n",
              "      <th>10219</th>\n",
              "      <td>ffe2ca6c940cddfee68fa3cc6c63213f</td>\n",
              "      <td>airedale</td>\n",
              "    </tr>\n",
              "    <tr>\n",
              "      <th>10220</th>\n",
              "      <td>ffe5f6d8e2bff356e9482a80a6e29aac</td>\n",
              "      <td>miniature_pinscher</td>\n",
              "    </tr>\n",
              "    <tr>\n",
              "      <th>10221</th>\n",
              "      <td>fff43b07992508bc822f33d8ffd902ae</td>\n",
              "      <td>chesapeake_bay_retriever</td>\n",
              "    </tr>\n",
              "  </tbody>\n",
              "</table>\n",
              "<p>10222 rows × 2 columns</p>\n",
              "</div>"
            ],
            "text/plain": [
              "                                     id                     breed\n",
              "0      000bec180eb18c7604dcecc8fe0dba07               boston_bull\n",
              "1      001513dfcb2ffafc82cccf4d8bbaba97                     dingo\n",
              "2      001cdf01b096e06d78e9e5112d419397                  pekinese\n",
              "3      00214f311d5d2247d5dfe4fe24b2303d                  bluetick\n",
              "4      0021f9ceb3235effd7fcde7f7538ed62          golden_retriever\n",
              "...                                 ...                       ...\n",
              "10217  ffd25009d635cfd16e793503ac5edef0                    borzoi\n",
              "10218  ffd3f636f7f379c51ba3648a9ff8254f            dandie_dinmont\n",
              "10219  ffe2ca6c940cddfee68fa3cc6c63213f                  airedale\n",
              "10220  ffe5f6d8e2bff356e9482a80a6e29aac        miniature_pinscher\n",
              "10221  fff43b07992508bc822f33d8ffd902ae  chesapeake_bay_retriever\n",
              "\n",
              "[10222 rows x 2 columns]"
            ]
          },
          "metadata": {
            "tags": []
          },
          "execution_count": 58
        }
      ]
    },
    {
      "cell_type": "markdown",
      "metadata": {
        "id": "FFSj6Xz3T6lz"
      },
      "source": [
        "# Data Preprocessing"
      ]
    },
    {
      "cell_type": "markdown",
      "metadata": {
        "id": "CUkho0L_E6eU"
      },
      "source": [
        "**Choosing specific Dog Breeds**"
      ]
    },
    {
      "cell_type": "code",
      "metadata": {
        "colab": {
          "base_uri": "https://localhost:8080/",
          "height": 359
        },
        "id": "2QggSmxHE3mC",
        "outputId": "8634ef04-a4b7-4f9e-f720-c25bd55e92c8"
      },
      "source": [
        "breeds={'beagle':0, 'chihuahua':1, 'doberman':2,'french_bulldog':3, 'golden_retriever':4,\r\n",
        "                   'malamute':5, 'pug':6, 'saint_bernard':7, 'scottish_deerhound':8,'tibetan_mastiff':9}\r\n",
        "df1 = df.loc[df['breed'].apply(lambda x: any([k in x for k in breeds]))]\r\n",
        "df1.head(10)"
      ],
      "execution_count": 60,
      "outputs": [
        {
          "output_type": "execute_result",
          "data": {
            "text/html": [
              "<div>\n",
              "<style scoped>\n",
              "    .dataframe tbody tr th:only-of-type {\n",
              "        vertical-align: middle;\n",
              "    }\n",
              "\n",
              "    .dataframe tbody tr th {\n",
              "        vertical-align: top;\n",
              "    }\n",
              "\n",
              "    .dataframe thead th {\n",
              "        text-align: right;\n",
              "    }\n",
              "</style>\n",
              "<table border=\"1\" class=\"dataframe\">\n",
              "  <thead>\n",
              "    <tr style=\"text-align: right;\">\n",
              "      <th></th>\n",
              "      <th>id</th>\n",
              "      <th>breed</th>\n",
              "    </tr>\n",
              "  </thead>\n",
              "  <tbody>\n",
              "    <tr>\n",
              "      <th>4</th>\n",
              "      <td>0021f9ceb3235effd7fcde7f7538ed62</td>\n",
              "      <td>golden_retriever</td>\n",
              "    </tr>\n",
              "    <tr>\n",
              "      <th>9</th>\n",
              "      <td>0042188c895a2f14ef64a918ed9c7b64</td>\n",
              "      <td>scottish_deerhound</td>\n",
              "    </tr>\n",
              "    <tr>\n",
              "      <th>20</th>\n",
              "      <td>008b1271ed1addaccf93783b39deab45</td>\n",
              "      <td>doberman</td>\n",
              "    </tr>\n",
              "    <tr>\n",
              "      <th>25</th>\n",
              "      <td>00a366d4b4a9bbb6c8a63126697b7656</td>\n",
              "      <td>golden_retriever</td>\n",
              "    </tr>\n",
              "    <tr>\n",
              "      <th>37</th>\n",
              "      <td>0100f55e4f0fe28f2c0465d3fc4b9897</td>\n",
              "      <td>golden_retriever</td>\n",
              "    </tr>\n",
              "    <tr>\n",
              "      <th>79</th>\n",
              "      <td>01e787576c003930f96c966f9c3e1d44</td>\n",
              "      <td>scottish_deerhound</td>\n",
              "    </tr>\n",
              "    <tr>\n",
              "      <th>82</th>\n",
              "      <td>01f429667104c0c5a5f321700f15435c</td>\n",
              "      <td>malamute</td>\n",
              "    </tr>\n",
              "    <tr>\n",
              "      <th>84</th>\n",
              "      <td>0206c12e8984e3c8a166cc272de25d6f</td>\n",
              "      <td>chihuahua</td>\n",
              "    </tr>\n",
              "    <tr>\n",
              "      <th>92</th>\n",
              "      <td>023e4e28415506e0deddcbd8f8bdab29</td>\n",
              "      <td>pug</td>\n",
              "    </tr>\n",
              "    <tr>\n",
              "      <th>97</th>\n",
              "      <td>02508e76981e1ba059d785704b4c480c</td>\n",
              "      <td>pug</td>\n",
              "    </tr>\n",
              "  </tbody>\n",
              "</table>\n",
              "</div>"
            ],
            "text/plain": [
              "                                  id               breed\n",
              "4   0021f9ceb3235effd7fcde7f7538ed62    golden_retriever\n",
              "9   0042188c895a2f14ef64a918ed9c7b64  scottish_deerhound\n",
              "20  008b1271ed1addaccf93783b39deab45            doberman\n",
              "25  00a366d4b4a9bbb6c8a63126697b7656    golden_retriever\n",
              "37  0100f55e4f0fe28f2c0465d3fc4b9897    golden_retriever\n",
              "79  01e787576c003930f96c966f9c3e1d44  scottish_deerhound\n",
              "82  01f429667104c0c5a5f321700f15435c            malamute\n",
              "84  0206c12e8984e3c8a166cc272de25d6f           chihuahua\n",
              "92  023e4e28415506e0deddcbd8f8bdab29                 pug\n",
              "97  02508e76981e1ba059d785704b4c480c                 pug"
            ]
          },
          "metadata": {
            "tags": []
          },
          "execution_count": 60
        }
      ]
    },
    {
      "cell_type": "code",
      "metadata": {
        "colab": {
          "base_uri": "https://localhost:8080/"
        },
        "id": "7gGP17P7RlNq",
        "outputId": "32185fc5-3e35-4c58-9698-f970ccd1a6de"
      },
      "source": [
        "# added .jpg at the end of each object in id column\r\n",
        "df1.id = df1.id + '.jpg'"
      ],
      "execution_count": 61,
      "outputs": [
        {
          "output_type": "stream",
          "text": [
            "/usr/local/lib/python3.7/dist-packages/pandas/core/generic.py:5170: SettingWithCopyWarning: \n",
            "A value is trying to be set on a copy of a slice from a DataFrame.\n",
            "Try using .loc[row_indexer,col_indexer] = value instead\n",
            "\n",
            "See the caveats in the documentation: https://pandas.pydata.org/pandas-docs/stable/user_guide/indexing.html#returning-a-view-versus-a-copy\n",
            "  self[name] = value\n"
          ],
          "name": "stderr"
        }
      ]
    },
    {
      "cell_type": "code",
      "metadata": {
        "colab": {
          "base_uri": "https://localhost:8080/"
        },
        "id": "onXXpJFlIWkj",
        "outputId": "d07f5a38-8449-4b8f-cc72-f3ab475cd5f6"
      },
      "source": [
        "df1['breed'].value_counts()"
      ],
      "execution_count": 62,
      "outputs": [
        {
          "output_type": "execute_result",
          "data": {
            "text/plain": [
              "scottish_deerhound    126\n",
              "beagle                105\n",
              "pug                    94\n",
              "saint_bernard          84\n",
              "malamute               81\n",
              "doberman               74\n",
              "chihuahua              71\n",
              "french_bulldog         70\n",
              "tibetan_mastiff        69\n",
              "golden_retriever       67\n",
              "Name: breed, dtype: int64"
            ]
          },
          "metadata": {
            "tags": []
          },
          "execution_count": 62
        }
      ]
    },
    {
      "cell_type": "markdown",
      "metadata": {
        "id": "ZNrFewe4SHep"
      },
      "source": [
        "**Test Data Segregation**"
      ]
    },
    {
      "cell_type": "code",
      "metadata": {
        "colab": {
          "base_uri": "https://localhost:8080/",
          "height": 289
        },
        "id": "DijzFJ8sSQ7O",
        "outputId": "6e91952a-0e26-497c-c5a8-fdf3e9087792"
      },
      "source": [
        "test= df1.iloc[-5:]\r\n",
        "df1.drop(df1.index[[-1,-2,-3,-4,-5]], inplace=True)\r\n",
        "test"
      ],
      "execution_count": 69,
      "outputs": [
        {
          "output_type": "stream",
          "text": [
            "/usr/local/lib/python3.7/dist-packages/pandas/core/frame.py:4174: SettingWithCopyWarning: \n",
            "A value is trying to be set on a copy of a slice from a DataFrame\n",
            "\n",
            "See the caveats in the documentation: https://pandas.pydata.org/pandas-docs/stable/user_guide/indexing.html#returning-a-view-versus-a-copy\n",
            "  errors=errors,\n"
          ],
          "name": "stderr"
        },
        {
          "output_type": "execute_result",
          "data": {
            "text/html": [
              "<div>\n",
              "<style scoped>\n",
              "    .dataframe tbody tr th:only-of-type {\n",
              "        vertical-align: middle;\n",
              "    }\n",
              "\n",
              "    .dataframe tbody tr th {\n",
              "        vertical-align: top;\n",
              "    }\n",
              "\n",
              "    .dataframe thead th {\n",
              "        text-align: right;\n",
              "    }\n",
              "</style>\n",
              "<table border=\"1\" class=\"dataframe\">\n",
              "  <thead>\n",
              "    <tr style=\"text-align: right;\">\n",
              "      <th></th>\n",
              "      <th>id</th>\n",
              "      <th>breed</th>\n",
              "    </tr>\n",
              "  </thead>\n",
              "  <tbody>\n",
              "    <tr>\n",
              "      <th>10158</th>\n",
              "      <td>fe50bac6c389d137ea01c9cfc7346ca8.jpg</td>\n",
              "      <td>scottish_deerhound</td>\n",
              "    </tr>\n",
              "    <tr>\n",
              "      <th>10161</th>\n",
              "      <td>fe624532170510bd80627c0500bafc97.jpg</td>\n",
              "      <td>tibetan_mastiff</td>\n",
              "    </tr>\n",
              "    <tr>\n",
              "      <th>10170</th>\n",
              "      <td>feb16cf86c9dac6d476e3c372ba5c279.jpg</td>\n",
              "      <td>pug</td>\n",
              "    </tr>\n",
              "    <tr>\n",
              "      <th>10172</th>\n",
              "      <td>febcab8eb2da444bf83336cffec7eb92.jpg</td>\n",
              "      <td>golden_retriever</td>\n",
              "    </tr>\n",
              "    <tr>\n",
              "      <th>10198</th>\n",
              "      <td>ff6f47aa8e181b6efa4d0be7b09b5628.jpg</td>\n",
              "      <td>golden_retriever</td>\n",
              "    </tr>\n",
              "  </tbody>\n",
              "</table>\n",
              "</div>"
            ],
            "text/plain": [
              "                                         id               breed\n",
              "10158  fe50bac6c389d137ea01c9cfc7346ca8.jpg  scottish_deerhound\n",
              "10161  fe624532170510bd80627c0500bafc97.jpg     tibetan_mastiff\n",
              "10170  feb16cf86c9dac6d476e3c372ba5c279.jpg                 pug\n",
              "10172  febcab8eb2da444bf83336cffec7eb92.jpg    golden_retriever\n",
              "10198  ff6f47aa8e181b6efa4d0be7b09b5628.jpg    golden_retriever"
            ]
          },
          "metadata": {
            "tags": []
          },
          "execution_count": 69
        }
      ]
    },
    {
      "cell_type": "code",
      "metadata": {
        "colab": {
          "base_uri": "https://localhost:8080/"
        },
        "id": "XQ-4k1bPEy8w",
        "outputId": "14c8d15b-589e-49ce-8069-8ee94f3ac5c4"
      },
      "source": [
        "datagen = keras.preprocessing.image.ImageDataGenerator(rescale=1./255, validation_split=0.1)\r\n",
        "\r\n",
        "train_generator = datagen.flow_from_dataframe(\r\n",
        "    df1,\r\n",
        "    directory=\"train/\",\r\n",
        "    x_col=\"id\",\r\n",
        "    y_col=\"breed\",\r\n",
        "    target_size=(224, 224),\r\n",
        "    batch_size=32, \r\n",
        "    subset=\"training\")\r\n",
        "\r\n",
        "validation_generator = datagen.flow_from_dataframe(\r\n",
        "    df1,\r\n",
        "    directory=\"train/\",\r\n",
        "    x_col=\"id\",\r\n",
        "    y_col=\"breed\",\r\n",
        "    target_size=(224, 224),\r\n",
        "    batch_size=32,\r\n",
        "    subset=\"validation\")"
      ],
      "execution_count": 71,
      "outputs": [
        {
          "output_type": "stream",
          "text": [
            "Found 753 validated image filenames belonging to 10 classes.\n",
            "Found 83 validated image filenames belonging to 10 classes.\n"
          ],
          "name": "stdout"
        }
      ]
    },
    {
      "cell_type": "markdown",
      "metadata": {
        "id": "dMrpVphBTwMv"
      },
      "source": [
        "# Transfer Learning with ResNet50"
      ]
    },
    {
      "cell_type": "code",
      "metadata": {
        "colab": {
          "base_uri": "https://localhost:8080/"
        },
        "id": "RDUnPJTMUDbm",
        "outputId": "c38459da-2608-4d88-db6d-9ca5bd53aafd"
      },
      "source": [
        "feature_extractor = keras.applications.ResNet50(input_shape=(224,224,3), include_top=False, weights='imagenet')\r\n",
        "feature_extractor.summary()"
      ],
      "execution_count": 80,
      "outputs": [
        {
          "output_type": "stream",
          "text": [
            "Model: \"resnet50\"\n",
            "__________________________________________________________________________________________________\n",
            "Layer (type)                    Output Shape         Param #     Connected to                     \n",
            "==================================================================================================\n",
            "input_1 (InputLayer)            [(None, 224, 224, 3) 0                                            \n",
            "__________________________________________________________________________________________________\n",
            "conv1_pad (ZeroPadding2D)       (None, 230, 230, 3)  0           input_1[0][0]                    \n",
            "__________________________________________________________________________________________________\n",
            "conv1_conv (Conv2D)             (None, 112, 112, 64) 9472        conv1_pad[0][0]                  \n",
            "__________________________________________________________________________________________________\n",
            "conv1_bn (BatchNormalization)   (None, 112, 112, 64) 256         conv1_conv[0][0]                 \n",
            "__________________________________________________________________________________________________\n",
            "conv1_relu (Activation)         (None, 112, 112, 64) 0           conv1_bn[0][0]                   \n",
            "__________________________________________________________________________________________________\n",
            "pool1_pad (ZeroPadding2D)       (None, 114, 114, 64) 0           conv1_relu[0][0]                 \n",
            "__________________________________________________________________________________________________\n",
            "pool1_pool (MaxPooling2D)       (None, 56, 56, 64)   0           pool1_pad[0][0]                  \n",
            "__________________________________________________________________________________________________\n",
            "conv2_block1_1_conv (Conv2D)    (None, 56, 56, 64)   4160        pool1_pool[0][0]                 \n",
            "__________________________________________________________________________________________________\n",
            "conv2_block1_1_bn (BatchNormali (None, 56, 56, 64)   256         conv2_block1_1_conv[0][0]        \n",
            "__________________________________________________________________________________________________\n",
            "conv2_block1_1_relu (Activation (None, 56, 56, 64)   0           conv2_block1_1_bn[0][0]          \n",
            "__________________________________________________________________________________________________\n",
            "conv2_block1_2_conv (Conv2D)    (None, 56, 56, 64)   36928       conv2_block1_1_relu[0][0]        \n",
            "__________________________________________________________________________________________________\n",
            "conv2_block1_2_bn (BatchNormali (None, 56, 56, 64)   256         conv2_block1_2_conv[0][0]        \n",
            "__________________________________________________________________________________________________\n",
            "conv2_block1_2_relu (Activation (None, 56, 56, 64)   0           conv2_block1_2_bn[0][0]          \n",
            "__________________________________________________________________________________________________\n",
            "conv2_block1_0_conv (Conv2D)    (None, 56, 56, 256)  16640       pool1_pool[0][0]                 \n",
            "__________________________________________________________________________________________________\n",
            "conv2_block1_3_conv (Conv2D)    (None, 56, 56, 256)  16640       conv2_block1_2_relu[0][0]        \n",
            "__________________________________________________________________________________________________\n",
            "conv2_block1_0_bn (BatchNormali (None, 56, 56, 256)  1024        conv2_block1_0_conv[0][0]        \n",
            "__________________________________________________________________________________________________\n",
            "conv2_block1_3_bn (BatchNormali (None, 56, 56, 256)  1024        conv2_block1_3_conv[0][0]        \n",
            "__________________________________________________________________________________________________\n",
            "conv2_block1_add (Add)          (None, 56, 56, 256)  0           conv2_block1_0_bn[0][0]          \n",
            "                                                                 conv2_block1_3_bn[0][0]          \n",
            "__________________________________________________________________________________________________\n",
            "conv2_block1_out (Activation)   (None, 56, 56, 256)  0           conv2_block1_add[0][0]           \n",
            "__________________________________________________________________________________________________\n",
            "conv2_block2_1_conv (Conv2D)    (None, 56, 56, 64)   16448       conv2_block1_out[0][0]           \n",
            "__________________________________________________________________________________________________\n",
            "conv2_block2_1_bn (BatchNormali (None, 56, 56, 64)   256         conv2_block2_1_conv[0][0]        \n",
            "__________________________________________________________________________________________________\n",
            "conv2_block2_1_relu (Activation (None, 56, 56, 64)   0           conv2_block2_1_bn[0][0]          \n",
            "__________________________________________________________________________________________________\n",
            "conv2_block2_2_conv (Conv2D)    (None, 56, 56, 64)   36928       conv2_block2_1_relu[0][0]        \n",
            "__________________________________________________________________________________________________\n",
            "conv2_block2_2_bn (BatchNormali (None, 56, 56, 64)   256         conv2_block2_2_conv[0][0]        \n",
            "__________________________________________________________________________________________________\n",
            "conv2_block2_2_relu (Activation (None, 56, 56, 64)   0           conv2_block2_2_bn[0][0]          \n",
            "__________________________________________________________________________________________________\n",
            "conv2_block2_3_conv (Conv2D)    (None, 56, 56, 256)  16640       conv2_block2_2_relu[0][0]        \n",
            "__________________________________________________________________________________________________\n",
            "conv2_block2_3_bn (BatchNormali (None, 56, 56, 256)  1024        conv2_block2_3_conv[0][0]        \n",
            "__________________________________________________________________________________________________\n",
            "conv2_block2_add (Add)          (None, 56, 56, 256)  0           conv2_block1_out[0][0]           \n",
            "                                                                 conv2_block2_3_bn[0][0]          \n",
            "__________________________________________________________________________________________________\n",
            "conv2_block2_out (Activation)   (None, 56, 56, 256)  0           conv2_block2_add[0][0]           \n",
            "__________________________________________________________________________________________________\n",
            "conv2_block3_1_conv (Conv2D)    (None, 56, 56, 64)   16448       conv2_block2_out[0][0]           \n",
            "__________________________________________________________________________________________________\n",
            "conv2_block3_1_bn (BatchNormali (None, 56, 56, 64)   256         conv2_block3_1_conv[0][0]        \n",
            "__________________________________________________________________________________________________\n",
            "conv2_block3_1_relu (Activation (None, 56, 56, 64)   0           conv2_block3_1_bn[0][0]          \n",
            "__________________________________________________________________________________________________\n",
            "conv2_block3_2_conv (Conv2D)    (None, 56, 56, 64)   36928       conv2_block3_1_relu[0][0]        \n",
            "__________________________________________________________________________________________________\n",
            "conv2_block3_2_bn (BatchNormali (None, 56, 56, 64)   256         conv2_block3_2_conv[0][0]        \n",
            "__________________________________________________________________________________________________\n",
            "conv2_block3_2_relu (Activation (None, 56, 56, 64)   0           conv2_block3_2_bn[0][0]          \n",
            "__________________________________________________________________________________________________\n",
            "conv2_block3_3_conv (Conv2D)    (None, 56, 56, 256)  16640       conv2_block3_2_relu[0][0]        \n",
            "__________________________________________________________________________________________________\n",
            "conv2_block3_3_bn (BatchNormali (None, 56, 56, 256)  1024        conv2_block3_3_conv[0][0]        \n",
            "__________________________________________________________________________________________________\n",
            "conv2_block3_add (Add)          (None, 56, 56, 256)  0           conv2_block2_out[0][0]           \n",
            "                                                                 conv2_block3_3_bn[0][0]          \n",
            "__________________________________________________________________________________________________\n",
            "conv2_block3_out (Activation)   (None, 56, 56, 256)  0           conv2_block3_add[0][0]           \n",
            "__________________________________________________________________________________________________\n",
            "conv3_block1_1_conv (Conv2D)    (None, 28, 28, 128)  32896       conv2_block3_out[0][0]           \n",
            "__________________________________________________________________________________________________\n",
            "conv3_block1_1_bn (BatchNormali (None, 28, 28, 128)  512         conv3_block1_1_conv[0][0]        \n",
            "__________________________________________________________________________________________________\n",
            "conv3_block1_1_relu (Activation (None, 28, 28, 128)  0           conv3_block1_1_bn[0][0]          \n",
            "__________________________________________________________________________________________________\n",
            "conv3_block1_2_conv (Conv2D)    (None, 28, 28, 128)  147584      conv3_block1_1_relu[0][0]        \n",
            "__________________________________________________________________________________________________\n",
            "conv3_block1_2_bn (BatchNormali (None, 28, 28, 128)  512         conv3_block1_2_conv[0][0]        \n",
            "__________________________________________________________________________________________________\n",
            "conv3_block1_2_relu (Activation (None, 28, 28, 128)  0           conv3_block1_2_bn[0][0]          \n",
            "__________________________________________________________________________________________________\n",
            "conv3_block1_0_conv (Conv2D)    (None, 28, 28, 512)  131584      conv2_block3_out[0][0]           \n",
            "__________________________________________________________________________________________________\n",
            "conv3_block1_3_conv (Conv2D)    (None, 28, 28, 512)  66048       conv3_block1_2_relu[0][0]        \n",
            "__________________________________________________________________________________________________\n",
            "conv3_block1_0_bn (BatchNormali (None, 28, 28, 512)  2048        conv3_block1_0_conv[0][0]        \n",
            "__________________________________________________________________________________________________\n",
            "conv3_block1_3_bn (BatchNormali (None, 28, 28, 512)  2048        conv3_block1_3_conv[0][0]        \n",
            "__________________________________________________________________________________________________\n",
            "conv3_block1_add (Add)          (None, 28, 28, 512)  0           conv3_block1_0_bn[0][0]          \n",
            "                                                                 conv3_block1_3_bn[0][0]          \n",
            "__________________________________________________________________________________________________\n",
            "conv3_block1_out (Activation)   (None, 28, 28, 512)  0           conv3_block1_add[0][0]           \n",
            "__________________________________________________________________________________________________\n",
            "conv3_block2_1_conv (Conv2D)    (None, 28, 28, 128)  65664       conv3_block1_out[0][0]           \n",
            "__________________________________________________________________________________________________\n",
            "conv3_block2_1_bn (BatchNormali (None, 28, 28, 128)  512         conv3_block2_1_conv[0][0]        \n",
            "__________________________________________________________________________________________________\n",
            "conv3_block2_1_relu (Activation (None, 28, 28, 128)  0           conv3_block2_1_bn[0][0]          \n",
            "__________________________________________________________________________________________________\n",
            "conv3_block2_2_conv (Conv2D)    (None, 28, 28, 128)  147584      conv3_block2_1_relu[0][0]        \n",
            "__________________________________________________________________________________________________\n",
            "conv3_block2_2_bn (BatchNormali (None, 28, 28, 128)  512         conv3_block2_2_conv[0][0]        \n",
            "__________________________________________________________________________________________________\n",
            "conv3_block2_2_relu (Activation (None, 28, 28, 128)  0           conv3_block2_2_bn[0][0]          \n",
            "__________________________________________________________________________________________________\n",
            "conv3_block2_3_conv (Conv2D)    (None, 28, 28, 512)  66048       conv3_block2_2_relu[0][0]        \n",
            "__________________________________________________________________________________________________\n",
            "conv3_block2_3_bn (BatchNormali (None, 28, 28, 512)  2048        conv3_block2_3_conv[0][0]        \n",
            "__________________________________________________________________________________________________\n",
            "conv3_block2_add (Add)          (None, 28, 28, 512)  0           conv3_block1_out[0][0]           \n",
            "                                                                 conv3_block2_3_bn[0][0]          \n",
            "__________________________________________________________________________________________________\n",
            "conv3_block2_out (Activation)   (None, 28, 28, 512)  0           conv3_block2_add[0][0]           \n",
            "__________________________________________________________________________________________________\n",
            "conv3_block3_1_conv (Conv2D)    (None, 28, 28, 128)  65664       conv3_block2_out[0][0]           \n",
            "__________________________________________________________________________________________________\n",
            "conv3_block3_1_bn (BatchNormali (None, 28, 28, 128)  512         conv3_block3_1_conv[0][0]        \n",
            "__________________________________________________________________________________________________\n",
            "conv3_block3_1_relu (Activation (None, 28, 28, 128)  0           conv3_block3_1_bn[0][0]          \n",
            "__________________________________________________________________________________________________\n",
            "conv3_block3_2_conv (Conv2D)    (None, 28, 28, 128)  147584      conv3_block3_1_relu[0][0]        \n",
            "__________________________________________________________________________________________________\n",
            "conv3_block3_2_bn (BatchNormali (None, 28, 28, 128)  512         conv3_block3_2_conv[0][0]        \n",
            "__________________________________________________________________________________________________\n",
            "conv3_block3_2_relu (Activation (None, 28, 28, 128)  0           conv3_block3_2_bn[0][0]          \n",
            "__________________________________________________________________________________________________\n",
            "conv3_block3_3_conv (Conv2D)    (None, 28, 28, 512)  66048       conv3_block3_2_relu[0][0]        \n",
            "__________________________________________________________________________________________________\n",
            "conv3_block3_3_bn (BatchNormali (None, 28, 28, 512)  2048        conv3_block3_3_conv[0][0]        \n",
            "__________________________________________________________________________________________________\n",
            "conv3_block3_add (Add)          (None, 28, 28, 512)  0           conv3_block2_out[0][0]           \n",
            "                                                                 conv3_block3_3_bn[0][0]          \n",
            "__________________________________________________________________________________________________\n",
            "conv3_block3_out (Activation)   (None, 28, 28, 512)  0           conv3_block3_add[0][0]           \n",
            "__________________________________________________________________________________________________\n",
            "conv3_block4_1_conv (Conv2D)    (None, 28, 28, 128)  65664       conv3_block3_out[0][0]           \n",
            "__________________________________________________________________________________________________\n",
            "conv3_block4_1_bn (BatchNormali (None, 28, 28, 128)  512         conv3_block4_1_conv[0][0]        \n",
            "__________________________________________________________________________________________________\n",
            "conv3_block4_1_relu (Activation (None, 28, 28, 128)  0           conv3_block4_1_bn[0][0]          \n",
            "__________________________________________________________________________________________________\n",
            "conv3_block4_2_conv (Conv2D)    (None, 28, 28, 128)  147584      conv3_block4_1_relu[0][0]        \n",
            "__________________________________________________________________________________________________\n",
            "conv3_block4_2_bn (BatchNormali (None, 28, 28, 128)  512         conv3_block4_2_conv[0][0]        \n",
            "__________________________________________________________________________________________________\n",
            "conv3_block4_2_relu (Activation (None, 28, 28, 128)  0           conv3_block4_2_bn[0][0]          \n",
            "__________________________________________________________________________________________________\n",
            "conv3_block4_3_conv (Conv2D)    (None, 28, 28, 512)  66048       conv3_block4_2_relu[0][0]        \n",
            "__________________________________________________________________________________________________\n",
            "conv3_block4_3_bn (BatchNormali (None, 28, 28, 512)  2048        conv3_block4_3_conv[0][0]        \n",
            "__________________________________________________________________________________________________\n",
            "conv3_block4_add (Add)          (None, 28, 28, 512)  0           conv3_block3_out[0][0]           \n",
            "                                                                 conv3_block4_3_bn[0][0]          \n",
            "__________________________________________________________________________________________________\n",
            "conv3_block4_out (Activation)   (None, 28, 28, 512)  0           conv3_block4_add[0][0]           \n",
            "__________________________________________________________________________________________________\n",
            "conv4_block1_1_conv (Conv2D)    (None, 14, 14, 256)  131328      conv3_block4_out[0][0]           \n",
            "__________________________________________________________________________________________________\n",
            "conv4_block1_1_bn (BatchNormali (None, 14, 14, 256)  1024        conv4_block1_1_conv[0][0]        \n",
            "__________________________________________________________________________________________________\n",
            "conv4_block1_1_relu (Activation (None, 14, 14, 256)  0           conv4_block1_1_bn[0][0]          \n",
            "__________________________________________________________________________________________________\n",
            "conv4_block1_2_conv (Conv2D)    (None, 14, 14, 256)  590080      conv4_block1_1_relu[0][0]        \n",
            "__________________________________________________________________________________________________\n",
            "conv4_block1_2_bn (BatchNormali (None, 14, 14, 256)  1024        conv4_block1_2_conv[0][0]        \n",
            "__________________________________________________________________________________________________\n",
            "conv4_block1_2_relu (Activation (None, 14, 14, 256)  0           conv4_block1_2_bn[0][0]          \n",
            "__________________________________________________________________________________________________\n",
            "conv4_block1_0_conv (Conv2D)    (None, 14, 14, 1024) 525312      conv3_block4_out[0][0]           \n",
            "__________________________________________________________________________________________________\n",
            "conv4_block1_3_conv (Conv2D)    (None, 14, 14, 1024) 263168      conv4_block1_2_relu[0][0]        \n",
            "__________________________________________________________________________________________________\n",
            "conv4_block1_0_bn (BatchNormali (None, 14, 14, 1024) 4096        conv4_block1_0_conv[0][0]        \n",
            "__________________________________________________________________________________________________\n",
            "conv4_block1_3_bn (BatchNormali (None, 14, 14, 1024) 4096        conv4_block1_3_conv[0][0]        \n",
            "__________________________________________________________________________________________________\n",
            "conv4_block1_add (Add)          (None, 14, 14, 1024) 0           conv4_block1_0_bn[0][0]          \n",
            "                                                                 conv4_block1_3_bn[0][0]          \n",
            "__________________________________________________________________________________________________\n",
            "conv4_block1_out (Activation)   (None, 14, 14, 1024) 0           conv4_block1_add[0][0]           \n",
            "__________________________________________________________________________________________________\n",
            "conv4_block2_1_conv (Conv2D)    (None, 14, 14, 256)  262400      conv4_block1_out[0][0]           \n",
            "__________________________________________________________________________________________________\n",
            "conv4_block2_1_bn (BatchNormali (None, 14, 14, 256)  1024        conv4_block2_1_conv[0][0]        \n",
            "__________________________________________________________________________________________________\n",
            "conv4_block2_1_relu (Activation (None, 14, 14, 256)  0           conv4_block2_1_bn[0][0]          \n",
            "__________________________________________________________________________________________________\n",
            "conv4_block2_2_conv (Conv2D)    (None, 14, 14, 256)  590080      conv4_block2_1_relu[0][0]        \n",
            "__________________________________________________________________________________________________\n",
            "conv4_block2_2_bn (BatchNormali (None, 14, 14, 256)  1024        conv4_block2_2_conv[0][0]        \n",
            "__________________________________________________________________________________________________\n",
            "conv4_block2_2_relu (Activation (None, 14, 14, 256)  0           conv4_block2_2_bn[0][0]          \n",
            "__________________________________________________________________________________________________\n",
            "conv4_block2_3_conv (Conv2D)    (None, 14, 14, 1024) 263168      conv4_block2_2_relu[0][0]        \n",
            "__________________________________________________________________________________________________\n",
            "conv4_block2_3_bn (BatchNormali (None, 14, 14, 1024) 4096        conv4_block2_3_conv[0][0]        \n",
            "__________________________________________________________________________________________________\n",
            "conv4_block2_add (Add)          (None, 14, 14, 1024) 0           conv4_block1_out[0][0]           \n",
            "                                                                 conv4_block2_3_bn[0][0]          \n",
            "__________________________________________________________________________________________________\n",
            "conv4_block2_out (Activation)   (None, 14, 14, 1024) 0           conv4_block2_add[0][0]           \n",
            "__________________________________________________________________________________________________\n",
            "conv4_block3_1_conv (Conv2D)    (None, 14, 14, 256)  262400      conv4_block2_out[0][0]           \n",
            "__________________________________________________________________________________________________\n",
            "conv4_block3_1_bn (BatchNormali (None, 14, 14, 256)  1024        conv4_block3_1_conv[0][0]        \n",
            "__________________________________________________________________________________________________\n",
            "conv4_block3_1_relu (Activation (None, 14, 14, 256)  0           conv4_block3_1_bn[0][0]          \n",
            "__________________________________________________________________________________________________\n",
            "conv4_block3_2_conv (Conv2D)    (None, 14, 14, 256)  590080      conv4_block3_1_relu[0][0]        \n",
            "__________________________________________________________________________________________________\n",
            "conv4_block3_2_bn (BatchNormali (None, 14, 14, 256)  1024        conv4_block3_2_conv[0][0]        \n",
            "__________________________________________________________________________________________________\n",
            "conv4_block3_2_relu (Activation (None, 14, 14, 256)  0           conv4_block3_2_bn[0][0]          \n",
            "__________________________________________________________________________________________________\n",
            "conv4_block3_3_conv (Conv2D)    (None, 14, 14, 1024) 263168      conv4_block3_2_relu[0][0]        \n",
            "__________________________________________________________________________________________________\n",
            "conv4_block3_3_bn (BatchNormali (None, 14, 14, 1024) 4096        conv4_block3_3_conv[0][0]        \n",
            "__________________________________________________________________________________________________\n",
            "conv4_block3_add (Add)          (None, 14, 14, 1024) 0           conv4_block2_out[0][0]           \n",
            "                                                                 conv4_block3_3_bn[0][0]          \n",
            "__________________________________________________________________________________________________\n",
            "conv4_block3_out (Activation)   (None, 14, 14, 1024) 0           conv4_block3_add[0][0]           \n",
            "__________________________________________________________________________________________________\n",
            "conv4_block4_1_conv (Conv2D)    (None, 14, 14, 256)  262400      conv4_block3_out[0][0]           \n",
            "__________________________________________________________________________________________________\n",
            "conv4_block4_1_bn (BatchNormali (None, 14, 14, 256)  1024        conv4_block4_1_conv[0][0]        \n",
            "__________________________________________________________________________________________________\n",
            "conv4_block4_1_relu (Activation (None, 14, 14, 256)  0           conv4_block4_1_bn[0][0]          \n",
            "__________________________________________________________________________________________________\n",
            "conv4_block4_2_conv (Conv2D)    (None, 14, 14, 256)  590080      conv4_block4_1_relu[0][0]        \n",
            "__________________________________________________________________________________________________\n",
            "conv4_block4_2_bn (BatchNormali (None, 14, 14, 256)  1024        conv4_block4_2_conv[0][0]        \n",
            "__________________________________________________________________________________________________\n",
            "conv4_block4_2_relu (Activation (None, 14, 14, 256)  0           conv4_block4_2_bn[0][0]          \n",
            "__________________________________________________________________________________________________\n",
            "conv4_block4_3_conv (Conv2D)    (None, 14, 14, 1024) 263168      conv4_block4_2_relu[0][0]        \n",
            "__________________________________________________________________________________________________\n",
            "conv4_block4_3_bn (BatchNormali (None, 14, 14, 1024) 4096        conv4_block4_3_conv[0][0]        \n",
            "__________________________________________________________________________________________________\n",
            "conv4_block4_add (Add)          (None, 14, 14, 1024) 0           conv4_block3_out[0][0]           \n",
            "                                                                 conv4_block4_3_bn[0][0]          \n",
            "__________________________________________________________________________________________________\n",
            "conv4_block4_out (Activation)   (None, 14, 14, 1024) 0           conv4_block4_add[0][0]           \n",
            "__________________________________________________________________________________________________\n",
            "conv4_block5_1_conv (Conv2D)    (None, 14, 14, 256)  262400      conv4_block4_out[0][0]           \n",
            "__________________________________________________________________________________________________\n",
            "conv4_block5_1_bn (BatchNormali (None, 14, 14, 256)  1024        conv4_block5_1_conv[0][0]        \n",
            "__________________________________________________________________________________________________\n",
            "conv4_block5_1_relu (Activation (None, 14, 14, 256)  0           conv4_block5_1_bn[0][0]          \n",
            "__________________________________________________________________________________________________\n",
            "conv4_block5_2_conv (Conv2D)    (None, 14, 14, 256)  590080      conv4_block5_1_relu[0][0]        \n",
            "__________________________________________________________________________________________________\n",
            "conv4_block5_2_bn (BatchNormali (None, 14, 14, 256)  1024        conv4_block5_2_conv[0][0]        \n",
            "__________________________________________________________________________________________________\n",
            "conv4_block5_2_relu (Activation (None, 14, 14, 256)  0           conv4_block5_2_bn[0][0]          \n",
            "__________________________________________________________________________________________________\n",
            "conv4_block5_3_conv (Conv2D)    (None, 14, 14, 1024) 263168      conv4_block5_2_relu[0][0]        \n",
            "__________________________________________________________________________________________________\n",
            "conv4_block5_3_bn (BatchNormali (None, 14, 14, 1024) 4096        conv4_block5_3_conv[0][0]        \n",
            "__________________________________________________________________________________________________\n",
            "conv4_block5_add (Add)          (None, 14, 14, 1024) 0           conv4_block4_out[0][0]           \n",
            "                                                                 conv4_block5_3_bn[0][0]          \n",
            "__________________________________________________________________________________________________\n",
            "conv4_block5_out (Activation)   (None, 14, 14, 1024) 0           conv4_block5_add[0][0]           \n",
            "__________________________________________________________________________________________________\n",
            "conv4_block6_1_conv (Conv2D)    (None, 14, 14, 256)  262400      conv4_block5_out[0][0]           \n",
            "__________________________________________________________________________________________________\n",
            "conv4_block6_1_bn (BatchNormali (None, 14, 14, 256)  1024        conv4_block6_1_conv[0][0]        \n",
            "__________________________________________________________________________________________________\n",
            "conv4_block6_1_relu (Activation (None, 14, 14, 256)  0           conv4_block6_1_bn[0][0]          \n",
            "__________________________________________________________________________________________________\n",
            "conv4_block6_2_conv (Conv2D)    (None, 14, 14, 256)  590080      conv4_block6_1_relu[0][0]        \n",
            "__________________________________________________________________________________________________\n",
            "conv4_block6_2_bn (BatchNormali (None, 14, 14, 256)  1024        conv4_block6_2_conv[0][0]        \n",
            "__________________________________________________________________________________________________\n",
            "conv4_block6_2_relu (Activation (None, 14, 14, 256)  0           conv4_block6_2_bn[0][0]          \n",
            "__________________________________________________________________________________________________\n",
            "conv4_block6_3_conv (Conv2D)    (None, 14, 14, 1024) 263168      conv4_block6_2_relu[0][0]        \n",
            "__________________________________________________________________________________________________\n",
            "conv4_block6_3_bn (BatchNormali (None, 14, 14, 1024) 4096        conv4_block6_3_conv[0][0]        \n",
            "__________________________________________________________________________________________________\n",
            "conv4_block6_add (Add)          (None, 14, 14, 1024) 0           conv4_block5_out[0][0]           \n",
            "                                                                 conv4_block6_3_bn[0][0]          \n",
            "__________________________________________________________________________________________________\n",
            "conv4_block6_out (Activation)   (None, 14, 14, 1024) 0           conv4_block6_add[0][0]           \n",
            "__________________________________________________________________________________________________\n",
            "conv5_block1_1_conv (Conv2D)    (None, 7, 7, 512)    524800      conv4_block6_out[0][0]           \n",
            "__________________________________________________________________________________________________\n",
            "conv5_block1_1_bn (BatchNormali (None, 7, 7, 512)    2048        conv5_block1_1_conv[0][0]        \n",
            "__________________________________________________________________________________________________\n",
            "conv5_block1_1_relu (Activation (None, 7, 7, 512)    0           conv5_block1_1_bn[0][0]          \n",
            "__________________________________________________________________________________________________\n",
            "conv5_block1_2_conv (Conv2D)    (None, 7, 7, 512)    2359808     conv5_block1_1_relu[0][0]        \n",
            "__________________________________________________________________________________________________\n",
            "conv5_block1_2_bn (BatchNormali (None, 7, 7, 512)    2048        conv5_block1_2_conv[0][0]        \n",
            "__________________________________________________________________________________________________\n",
            "conv5_block1_2_relu (Activation (None, 7, 7, 512)    0           conv5_block1_2_bn[0][0]          \n",
            "__________________________________________________________________________________________________\n",
            "conv5_block1_0_conv (Conv2D)    (None, 7, 7, 2048)   2099200     conv4_block6_out[0][0]           \n",
            "__________________________________________________________________________________________________\n",
            "conv5_block1_3_conv (Conv2D)    (None, 7, 7, 2048)   1050624     conv5_block1_2_relu[0][0]        \n",
            "__________________________________________________________________________________________________\n",
            "conv5_block1_0_bn (BatchNormali (None, 7, 7, 2048)   8192        conv5_block1_0_conv[0][0]        \n",
            "__________________________________________________________________________________________________\n",
            "conv5_block1_3_bn (BatchNormali (None, 7, 7, 2048)   8192        conv5_block1_3_conv[0][0]        \n",
            "__________________________________________________________________________________________________\n",
            "conv5_block1_add (Add)          (None, 7, 7, 2048)   0           conv5_block1_0_bn[0][0]          \n",
            "                                                                 conv5_block1_3_bn[0][0]          \n",
            "__________________________________________________________________________________________________\n",
            "conv5_block1_out (Activation)   (None, 7, 7, 2048)   0           conv5_block1_add[0][0]           \n",
            "__________________________________________________________________________________________________\n",
            "conv5_block2_1_conv (Conv2D)    (None, 7, 7, 512)    1049088     conv5_block1_out[0][0]           \n",
            "__________________________________________________________________________________________________\n",
            "conv5_block2_1_bn (BatchNormali (None, 7, 7, 512)    2048        conv5_block2_1_conv[0][0]        \n",
            "__________________________________________________________________________________________________\n",
            "conv5_block2_1_relu (Activation (None, 7, 7, 512)    0           conv5_block2_1_bn[0][0]          \n",
            "__________________________________________________________________________________________________\n",
            "conv5_block2_2_conv (Conv2D)    (None, 7, 7, 512)    2359808     conv5_block2_1_relu[0][0]        \n",
            "__________________________________________________________________________________________________\n",
            "conv5_block2_2_bn (BatchNormali (None, 7, 7, 512)    2048        conv5_block2_2_conv[0][0]        \n",
            "__________________________________________________________________________________________________\n",
            "conv5_block2_2_relu (Activation (None, 7, 7, 512)    0           conv5_block2_2_bn[0][0]          \n",
            "__________________________________________________________________________________________________\n",
            "conv5_block2_3_conv (Conv2D)    (None, 7, 7, 2048)   1050624     conv5_block2_2_relu[0][0]        \n",
            "__________________________________________________________________________________________________\n",
            "conv5_block2_3_bn (BatchNormali (None, 7, 7, 2048)   8192        conv5_block2_3_conv[0][0]        \n",
            "__________________________________________________________________________________________________\n",
            "conv5_block2_add (Add)          (None, 7, 7, 2048)   0           conv5_block1_out[0][0]           \n",
            "                                                                 conv5_block2_3_bn[0][0]          \n",
            "__________________________________________________________________________________________________\n",
            "conv5_block2_out (Activation)   (None, 7, 7, 2048)   0           conv5_block2_add[0][0]           \n",
            "__________________________________________________________________________________________________\n",
            "conv5_block3_1_conv (Conv2D)    (None, 7, 7, 512)    1049088     conv5_block2_out[0][0]           \n",
            "__________________________________________________________________________________________________\n",
            "conv5_block3_1_bn (BatchNormali (None, 7, 7, 512)    2048        conv5_block3_1_conv[0][0]        \n",
            "__________________________________________________________________________________________________\n",
            "conv5_block3_1_relu (Activation (None, 7, 7, 512)    0           conv5_block3_1_bn[0][0]          \n",
            "__________________________________________________________________________________________________\n",
            "conv5_block3_2_conv (Conv2D)    (None, 7, 7, 512)    2359808     conv5_block3_1_relu[0][0]        \n",
            "__________________________________________________________________________________________________\n",
            "conv5_block3_2_bn (BatchNormali (None, 7, 7, 512)    2048        conv5_block3_2_conv[0][0]        \n",
            "__________________________________________________________________________________________________\n",
            "conv5_block3_2_relu (Activation (None, 7, 7, 512)    0           conv5_block3_2_bn[0][0]          \n",
            "__________________________________________________________________________________________________\n",
            "conv5_block3_3_conv (Conv2D)    (None, 7, 7, 2048)   1050624     conv5_block3_2_relu[0][0]        \n",
            "__________________________________________________________________________________________________\n",
            "conv5_block3_3_bn (BatchNormali (None, 7, 7, 2048)   8192        conv5_block3_3_conv[0][0]        \n",
            "__________________________________________________________________________________________________\n",
            "conv5_block3_add (Add)          (None, 7, 7, 2048)   0           conv5_block2_out[0][0]           \n",
            "                                                                 conv5_block3_3_bn[0][0]          \n",
            "__________________________________________________________________________________________________\n",
            "conv5_block3_out (Activation)   (None, 7, 7, 2048)   0           conv5_block3_add[0][0]           \n",
            "==================================================================================================\n",
            "Total params: 23,587,712\n",
            "Trainable params: 23,534,592\n",
            "Non-trainable params: 53,120\n",
            "__________________________________________________________________________________________________\n"
          ],
          "name": "stdout"
        }
      ]
    },
    {
      "cell_type": "markdown",
      "metadata": {
        "id": "bOkwCXEES-52"
      },
      "source": [
        "# Finding a suitable learning rate"
      ]
    },
    {
      "cell_type": "code",
      "metadata": {
        "colab": {
          "base_uri": "https://localhost:8080/"
        },
        "id": "lT-dOLuGS9cQ",
        "outputId": "8c658382-8fb1-4ed0-8d77-39ea3e836dd3"
      },
      "source": [
        "keras.backend.clear_session()\r\n",
        "\r\n",
        "model= keras.Sequential([\r\n",
        "                         feature_extractor,\r\n",
        "                         keras.layers.GlobalAveragePooling2D(),\r\n",
        "                         keras.layers.Dense(256, activation=\"relu\"),\r\n",
        "                         keras.layers.Dropout(0.3),\r\n",
        "                         keras.layers.Dense(32, activation=\"relu\"),\r\n",
        "                         keras.layers.Dropout(0.4),\r\n",
        "                         keras.layers.Dense(10, activation= \"softmax\")\r\n",
        "])\r\n",
        "model.summary()"
      ],
      "execution_count": 93,
      "outputs": [
        {
          "output_type": "stream",
          "text": [
            "Model: \"sequential\"\n",
            "_________________________________________________________________\n",
            "Layer (type)                 Output Shape              Param #   \n",
            "=================================================================\n",
            "resnet50 (Functional)        (None, 7, 7, 2048)        23587712  \n",
            "_________________________________________________________________\n",
            "global_average_pooling2d (Gl (None, 2048)              0         \n",
            "_________________________________________________________________\n",
            "dense (Dense)                (None, 256)               524544    \n",
            "_________________________________________________________________\n",
            "dropout (Dropout)            (None, 256)               0         \n",
            "_________________________________________________________________\n",
            "dense_1 (Dense)              (None, 32)                8224      \n",
            "_________________________________________________________________\n",
            "dropout_1 (Dropout)          (None, 32)                0         \n",
            "_________________________________________________________________\n",
            "dense_2 (Dense)              (None, 10)                330       \n",
            "=================================================================\n",
            "Total params: 24,120,810\n",
            "Trainable params: 24,067,690\n",
            "Non-trainable params: 53,120\n",
            "_________________________________________________________________\n"
          ],
          "name": "stdout"
        }
      ]
    },
    {
      "cell_type": "code",
      "metadata": {
        "id": "jzqoTGVBS9cr"
      },
      "source": [
        "num_layers= 6\r\n",
        "feature_extractor.trainable= True;\r\n",
        "for Layers in model.layers[-num_layers:]:\r\n",
        "  Layers.trainable= True"
      ],
      "execution_count": 94,
      "outputs": []
    },
    {
      "cell_type": "code",
      "metadata": {
        "id": "vJpgrtIUS9cs"
      },
      "source": [
        "lr_schedular= tf.keras.callbacks.LearningRateScheduler(lambda x: 1e-5*10**(x/20))\r\n",
        "# a check point callback to save our best model\r\n",
        "checkpoint = keras.callbacks.ModelCheckpoint('dog_breed_classifier_model.h5', \r\n",
        "                                             monitor='val_accuracy', \r\n",
        "                                             verbose=1, save_best_only=True, \r\n",
        "                                             mode='max', save_weights_only=True)\r\n",
        "\r\n",
        "model.compile(\r\n",
        "    optimizer= keras.optimizers.Adam(learning_rate=1e-5),\r\n",
        "    loss= keras.losses.CategoricalCrossentropy(),\r\n",
        "    metrics=['accuracy']\r\n",
        ")"
      ],
      "execution_count": 95,
      "outputs": []
    },
    {
      "cell_type": "code",
      "metadata": {
        "colab": {
          "base_uri": "https://localhost:8080/"
        },
        "id": "O5-VCLcNS9ct",
        "outputId": "3cbd600c-4150-4e30-f2eb-c1a645d9e893"
      },
      "source": [
        "history = model.fit(train_generator,\r\n",
        "                    validation_data=validation_generator, verbose=1,\r\n",
        "                    epochs=50, callbacks=[lr_schedular, checkpoint])"
      ],
      "execution_count": 96,
      "outputs": [
        {
          "output_type": "stream",
          "text": [
            "Epoch 1/50\n",
            "24/24 [==============================] - 15s 420ms/step - loss: 2.4389 - accuracy: 0.1420 - val_loss: 2.1443 - val_accuracy: 0.1687\n",
            "\n",
            "Epoch 00001: val_accuracy improved from -inf to 0.16867, saving model to dog_breed_classifier_model.h5\n",
            "Epoch 2/50\n",
            "24/24 [==============================] - 9s 390ms/step - loss: 2.0671 - accuracy: 0.2345 - val_loss: 2.0104 - val_accuracy: 0.2771\n",
            "\n",
            "Epoch 00002: val_accuracy improved from 0.16867 to 0.27711, saving model to dog_breed_classifier_model.h5\n",
            "Epoch 3/50\n",
            "24/24 [==============================] - 9s 380ms/step - loss: 1.7913 - accuracy: 0.3548 - val_loss: 1.9095 - val_accuracy: 0.3855\n",
            "\n",
            "Epoch 00003: val_accuracy improved from 0.27711 to 0.38554, saving model to dog_breed_classifier_model.h5\n",
            "Epoch 4/50\n",
            "24/24 [==============================] - 9s 370ms/step - loss: 1.5428 - accuracy: 0.4544 - val_loss: 1.8190 - val_accuracy: 0.4819\n",
            "\n",
            "Epoch 00004: val_accuracy improved from 0.38554 to 0.48193, saving model to dog_breed_classifier_model.h5\n",
            "Epoch 5/50\n",
            "24/24 [==============================] - 9s 362ms/step - loss: 1.3430 - accuracy: 0.5723 - val_loss: 1.7299 - val_accuracy: 0.5060\n",
            "\n",
            "Epoch 00005: val_accuracy improved from 0.48193 to 0.50602, saving model to dog_breed_classifier_model.h5\n",
            "Epoch 6/50\n",
            "24/24 [==============================] - 9s 360ms/step - loss: 1.1748 - accuracy: 0.6512 - val_loss: 1.6417 - val_accuracy: 0.5301\n",
            "\n",
            "Epoch 00006: val_accuracy improved from 0.50602 to 0.53012, saving model to dog_breed_classifier_model.h5\n",
            "Epoch 7/50\n",
            "24/24 [==============================] - 9s 360ms/step - loss: 1.0457 - accuracy: 0.7165 - val_loss: 1.5694 - val_accuracy: 0.5181\n",
            "\n",
            "Epoch 00007: val_accuracy did not improve from 0.53012\n",
            "Epoch 8/50\n",
            "24/24 [==============================] - 9s 367ms/step - loss: 0.8651 - accuracy: 0.7650 - val_loss: 1.4990 - val_accuracy: 0.5181\n",
            "\n",
            "Epoch 00008: val_accuracy did not improve from 0.53012\n",
            "Epoch 9/50\n",
            "24/24 [==============================] - 9s 365ms/step - loss: 0.7678 - accuracy: 0.8269 - val_loss: 1.4259 - val_accuracy: 0.5663\n",
            "\n",
            "Epoch 00009: val_accuracy improved from 0.53012 to 0.56627, saving model to dog_breed_classifier_model.h5\n",
            "Epoch 10/50\n",
            "24/24 [==============================] - 9s 370ms/step - loss: 0.5724 - accuracy: 0.8940 - val_loss: 1.3565 - val_accuracy: 0.6265\n",
            "\n",
            "Epoch 00010: val_accuracy improved from 0.56627 to 0.62651, saving model to dog_breed_classifier_model.h5\n",
            "Epoch 11/50\n",
            "24/24 [==============================] - 9s 373ms/step - loss: 0.4784 - accuracy: 0.8917 - val_loss: 1.3404 - val_accuracy: 0.6386\n",
            "\n",
            "Epoch 00011: val_accuracy improved from 0.62651 to 0.63855, saving model to dog_breed_classifier_model.h5\n",
            "Epoch 12/50\n",
            "24/24 [==============================] - 9s 373ms/step - loss: 0.4258 - accuracy: 0.9088 - val_loss: 1.2797 - val_accuracy: 0.6386\n",
            "\n",
            "Epoch 00012: val_accuracy did not improve from 0.63855\n",
            "Epoch 13/50\n",
            "24/24 [==============================] - 9s 371ms/step - loss: 0.3407 - accuracy: 0.9287 - val_loss: 1.2458 - val_accuracy: 0.6386\n",
            "\n",
            "Epoch 00013: val_accuracy did not improve from 0.63855\n",
            "Epoch 14/50\n",
            "24/24 [==============================] - 9s 370ms/step - loss: 0.2653 - accuracy: 0.9444 - val_loss: 1.2366 - val_accuracy: 0.6145\n",
            "\n",
            "Epoch 00014: val_accuracy did not improve from 0.63855\n",
            "Epoch 15/50\n",
            "24/24 [==============================] - 9s 368ms/step - loss: 0.2334 - accuracy: 0.9466 - val_loss: 1.2336 - val_accuracy: 0.6265\n",
            "\n",
            "Epoch 00015: val_accuracy did not improve from 0.63855\n",
            "Epoch 16/50\n",
            "24/24 [==============================] - 9s 367ms/step - loss: 0.2069 - accuracy: 0.9468 - val_loss: 1.2602 - val_accuracy: 0.6145\n",
            "\n",
            "Epoch 00016: val_accuracy did not improve from 0.63855\n",
            "Epoch 17/50\n",
            "24/24 [==============================] - 9s 367ms/step - loss: 0.1956 - accuracy: 0.9461 - val_loss: 1.2645 - val_accuracy: 0.6145\n",
            "\n",
            "Epoch 00017: val_accuracy did not improve from 0.63855\n",
            "Epoch 18/50\n",
            "24/24 [==============================] - 9s 366ms/step - loss: 0.1660 - accuracy: 0.9521 - val_loss: 1.2825 - val_accuracy: 0.6265\n",
            "\n",
            "Epoch 00018: val_accuracy did not improve from 0.63855\n",
            "Epoch 19/50\n",
            "24/24 [==============================] - 9s 368ms/step - loss: 0.1378 - accuracy: 0.9581 - val_loss: 1.3038 - val_accuracy: 0.6386\n",
            "\n",
            "Epoch 00019: val_accuracy did not improve from 0.63855\n",
            "Epoch 20/50\n",
            "24/24 [==============================] - 9s 369ms/step - loss: 0.0991 - accuracy: 0.9765 - val_loss: 1.3246 - val_accuracy: 0.6386\n",
            "\n",
            "Epoch 00020: val_accuracy did not improve from 0.63855\n",
            "Epoch 21/50\n",
            "24/24 [==============================] - 9s 368ms/step - loss: 0.1141 - accuracy: 0.9657 - val_loss: 1.2843 - val_accuracy: 0.6506\n",
            "\n",
            "Epoch 00021: val_accuracy improved from 0.63855 to 0.65060, saving model to dog_breed_classifier_model.h5\n",
            "Epoch 22/50\n",
            "24/24 [==============================] - 9s 371ms/step - loss: 0.1148 - accuracy: 0.9663 - val_loss: 1.3204 - val_accuracy: 0.6265\n",
            "\n",
            "Epoch 00022: val_accuracy did not improve from 0.65060\n",
            "Epoch 23/50\n",
            "24/24 [==============================] - 9s 370ms/step - loss: 0.1913 - accuracy: 0.9533 - val_loss: 2.0004 - val_accuracy: 0.5542\n",
            "\n",
            "Epoch 00023: val_accuracy did not improve from 0.65060\n",
            "Epoch 24/50\n",
            "24/24 [==============================] - 9s 369ms/step - loss: 0.1911 - accuracy: 0.9501 - val_loss: 1.4202 - val_accuracy: 0.5783\n",
            "\n",
            "Epoch 00024: val_accuracy did not improve from 0.65060\n",
            "Epoch 25/50\n",
            "24/24 [==============================] - 9s 368ms/step - loss: 0.1967 - accuracy: 0.9547 - val_loss: 1.5366 - val_accuracy: 0.5904\n",
            "\n",
            "Epoch 00025: val_accuracy did not improve from 0.65060\n",
            "Epoch 26/50\n",
            "24/24 [==============================] - 9s 369ms/step - loss: 0.1205 - accuracy: 0.9668 - val_loss: 1.3847 - val_accuracy: 0.6386\n",
            "\n",
            "Epoch 00026: val_accuracy did not improve from 0.65060\n",
            "Epoch 27/50\n",
            "24/24 [==============================] - 9s 367ms/step - loss: 0.1361 - accuracy: 0.9678 - val_loss: 1.3215 - val_accuracy: 0.6988\n",
            "\n",
            "Epoch 00027: val_accuracy improved from 0.65060 to 0.69880, saving model to dog_breed_classifier_model.h5\n",
            "Epoch 28/50\n",
            "24/24 [==============================] - 9s 368ms/step - loss: 0.1127 - accuracy: 0.9570 - val_loss: 1.7409 - val_accuracy: 0.6024\n",
            "\n",
            "Epoch 00028: val_accuracy did not improve from 0.69880\n",
            "Epoch 29/50\n",
            "24/24 [==============================] - 9s 369ms/step - loss: 0.0576 - accuracy: 0.9807 - val_loss: 1.5233 - val_accuracy: 0.6145\n",
            "\n",
            "Epoch 00029: val_accuracy did not improve from 0.69880\n",
            "Epoch 30/50\n",
            "24/24 [==============================] - 9s 368ms/step - loss: 0.0516 - accuracy: 0.9809 - val_loss: 1.7224 - val_accuracy: 0.6145\n",
            "\n",
            "Epoch 00030: val_accuracy did not improve from 0.69880\n",
            "Epoch 31/50\n",
            "24/24 [==============================] - 9s 370ms/step - loss: 0.0853 - accuracy: 0.9737 - val_loss: 1.8196 - val_accuracy: 0.5663\n",
            "\n",
            "Epoch 00031: val_accuracy did not improve from 0.69880\n",
            "Epoch 32/50\n",
            "24/24 [==============================] - 9s 367ms/step - loss: 0.2397 - accuracy: 0.9366 - val_loss: 5.5405 - val_accuracy: 0.4096\n",
            "\n",
            "Epoch 00032: val_accuracy did not improve from 0.69880\n",
            "Epoch 33/50\n",
            "24/24 [==============================] - 9s 366ms/step - loss: 0.5002 - accuracy: 0.8887 - val_loss: 17.5354 - val_accuracy: 0.1928\n",
            "\n",
            "Epoch 00033: val_accuracy did not improve from 0.69880\n",
            "Epoch 34/50\n",
            "24/24 [==============================] - 9s 367ms/step - loss: 0.3634 - accuracy: 0.8987 - val_loss: 3.6367 - val_accuracy: 0.4458\n",
            "\n",
            "Epoch 00034: val_accuracy did not improve from 0.69880\n",
            "Epoch 35/50\n",
            "24/24 [==============================] - 9s 368ms/step - loss: 0.5196 - accuracy: 0.8574 - val_loss: 11.2067 - val_accuracy: 0.2289\n",
            "\n",
            "Epoch 00035: val_accuracy did not improve from 0.69880\n",
            "Epoch 36/50\n",
            "24/24 [==============================] - 9s 369ms/step - loss: 0.4984 - accuracy: 0.8781 - val_loss: 3.1627 - val_accuracy: 0.4337\n",
            "\n",
            "Epoch 00036: val_accuracy did not improve from 0.69880\n",
            "Epoch 37/50\n",
            "24/24 [==============================] - 9s 370ms/step - loss: 0.3661 - accuracy: 0.9092 - val_loss: 4.6038 - val_accuracy: 0.3855\n",
            "\n",
            "Epoch 00037: val_accuracy did not improve from 0.69880\n",
            "Epoch 38/50\n",
            "24/24 [==============================] - 9s 367ms/step - loss: 0.2801 - accuracy: 0.9246 - val_loss: 6.8091 - val_accuracy: 0.2169\n",
            "\n",
            "Epoch 00038: val_accuracy did not improve from 0.69880\n",
            "Epoch 39/50\n",
            "24/24 [==============================] - 9s 368ms/step - loss: 0.3414 - accuracy: 0.9095 - val_loss: 5.8022 - val_accuracy: 0.1807\n",
            "\n",
            "Epoch 00039: val_accuracy did not improve from 0.69880\n",
            "Epoch 40/50\n",
            "24/24 [==============================] - 9s 368ms/step - loss: 0.4336 - accuracy: 0.8999 - val_loss: 2.1774 - val_accuracy: 0.4217\n",
            "\n",
            "Epoch 00040: val_accuracy did not improve from 0.69880\n",
            "Epoch 41/50\n",
            "24/24 [==============================] - 9s 368ms/step - loss: 0.3818 - accuracy: 0.9104 - val_loss: 2.5278 - val_accuracy: 0.2410\n",
            "\n",
            "Epoch 00041: val_accuracy did not improve from 0.69880\n",
            "Epoch 42/50\n",
            "24/24 [==============================] - 9s 367ms/step - loss: 0.4013 - accuracy: 0.8887 - val_loss: 80.9107 - val_accuracy: 0.1446\n",
            "\n",
            "Epoch 00042: val_accuracy did not improve from 0.69880\n",
            "Epoch 43/50\n",
            "24/24 [==============================] - 9s 369ms/step - loss: 0.3522 - accuracy: 0.9082 - val_loss: 26.0334 - val_accuracy: 0.1807\n",
            "\n",
            "Epoch 00043: val_accuracy did not improve from 0.69880\n",
            "Epoch 44/50\n",
            "24/24 [==============================] - 9s 368ms/step - loss: 1.0157 - accuracy: 0.7628 - val_loss: 12.3610 - val_accuracy: 0.0964\n",
            "\n",
            "Epoch 00044: val_accuracy did not improve from 0.69880\n",
            "Epoch 45/50\n",
            "24/24 [==============================] - 9s 366ms/step - loss: 1.2854 - accuracy: 0.7032 - val_loss: 9.5007 - val_accuracy: 0.1084\n",
            "\n",
            "Epoch 00045: val_accuracy did not improve from 0.69880\n",
            "Epoch 46/50\n",
            "24/24 [==============================] - 9s 368ms/step - loss: 0.6577 - accuracy: 0.8124 - val_loss: 4.4573 - val_accuracy: 0.0482\n",
            "\n",
            "Epoch 00046: val_accuracy did not improve from 0.69880\n",
            "Epoch 47/50\n",
            "24/24 [==============================] - 9s 368ms/step - loss: 0.6310 - accuracy: 0.8288 - val_loss: 12.3068 - val_accuracy: 0.0723\n",
            "\n",
            "Epoch 00047: val_accuracy did not improve from 0.69880\n",
            "Epoch 48/50\n",
            "24/24 [==============================] - 9s 368ms/step - loss: 0.5390 - accuracy: 0.8704 - val_loss: 16.5326 - val_accuracy: 0.0964\n",
            "\n",
            "Epoch 00048: val_accuracy did not improve from 0.69880\n",
            "Epoch 49/50\n",
            "24/24 [==============================] - 9s 368ms/step - loss: 1.0182 - accuracy: 0.7151 - val_loss: 18.6208 - val_accuracy: 0.0482\n",
            "\n",
            "Epoch 00049: val_accuracy did not improve from 0.69880\n",
            "Epoch 50/50\n",
            "24/24 [==============================] - 9s 366ms/step - loss: 0.7565 - accuracy: 0.7820 - val_loss: 7.3170 - val_accuracy: 0.0723\n",
            "\n",
            "Epoch 00050: val_accuracy did not improve from 0.69880\n"
          ],
          "name": "stdout"
        }
      ]
    },
    {
      "cell_type": "code",
      "metadata": {
        "colab": {
          "base_uri": "https://localhost:8080/"
        },
        "id": "RHSVn0QSTck_",
        "outputId": "96a1ac1a-6601-4ffc-f27a-db6591ca79cb"
      },
      "source": [
        "val_acc= max(history.history['val_accuracy'])\r\n",
        "val_accuracy= history.history['val_accuracy']\r\n",
        "index=val_accuracy.index(val_acc)\r\n",
        "lrs= history.history['lr']\r\n",
        "count=0\r\n",
        "for i in lrs:\r\n",
        "  if count==index: \r\n",
        "    lr=i\r\n",
        "    break\r\n",
        "  count+=1\r\n",
        "print(lr)\r\n",
        "print(val_acc)"
      ],
      "execution_count": 97,
      "outputs": [
        {
          "output_type": "stream",
          "text": [
            "0.00019952623\n",
            "0.6987951993942261\n"
          ],
          "name": "stdout"
        }
      ]
    },
    {
      "cell_type": "code",
      "metadata": {
        "colab": {
          "base_uri": "https://localhost:8080/",
          "height": 487
        },
        "id": "x1beZfhATciY",
        "outputId": "4f271dd0-3ffb-4c82-bc1b-7cba3cfb86c4"
      },
      "source": [
        "lrs= 1e-5*(10**(np.arange(50)/20))\r\n",
        "plt.semilogx(lrs, history.history[\"val_accuracy\"], label='Validation Accuracy')\r\n",
        "plt.legend(loc='best')\r\n",
        "plt.grid(True)"
      ],
      "execution_count": 98,
      "outputs": [
        {
          "output_type": "display_data",
          "data": {
            "image/png": "[encoded data removed]",
            "text/plain": [
              "<Figure size 720x576 with 1 Axes>"
            ]
          },
          "metadata": {
            "tags": [],
            "needs_background": "light"
          }
        }
      ]
    },
    {
      "cell_type": "markdown",
      "metadata": {
        "id": "64FTryG5S3d-"
      },
      "source": [
        "# Model Training"
      ]
    },
    {
      "cell_type": "code",
      "metadata": {
        "colab": {
          "base_uri": "https://localhost:8080/"
        },
        "id": "S-KVsw6pYlnK",
        "outputId": "0f455765-2390-4a1a-8306-b2184e35a84b"
      },
      "source": [
        "keras.backend.clear_session()\r\n",
        "\r\n",
        "model.load_weights('dog_breed_classifier_model.h5')\r\n",
        "model.summary()"
      ],
      "execution_count": 99,
      "outputs": [
        {
          "output_type": "stream",
          "text": [
            "Model: \"sequential\"\n",
            "_________________________________________________________________\n",
            "Layer (type)                 Output Shape              Param #   \n",
            "=================================================================\n",
            "resnet50 (Functional)        (None, 7, 7, 2048)        23587712  \n",
            "_________________________________________________________________\n",
            "global_average_pooling2d (Gl (None, 2048)              0         \n",
            "_________________________________________________________________\n",
            "dense (Dense)                (None, 256)               524544    \n",
            "_________________________________________________________________\n",
            "dropout (Dropout)            (None, 256)               0         \n",
            "_________________________________________________________________\n",
            "dense_1 (Dense)              (None, 32)                8224      \n",
            "_________________________________________________________________\n",
            "dropout_1 (Dropout)          (None, 32)                0         \n",
            "_________________________________________________________________\n",
            "dense_2 (Dense)              (None, 10)                330       \n",
            "=================================================================\n",
            "Total params: 24,120,810\n",
            "Trainable params: 24,067,690\n",
            "Non-trainable params: 53,120\n",
            "_________________________________________________________________\n"
          ],
          "name": "stdout"
        }
      ]
    },
    {
      "cell_type": "code",
      "metadata": {
        "id": "HudNnU9JaLX0"
      },
      "source": [
        "num_layers= 6\r\n",
        "for Layers in model.layers[-num_layers:]:\r\n",
        "  Layers.trainable= True"
      ],
      "execution_count": 101,
      "outputs": []
    },
    {
      "cell_type": "code",
      "metadata": {
        "id": "PFk2O7xEaWpw"
      },
      "source": [
        "model.compile(\r\n",
        "    optimizer= keras.optimizers.Adam(learning_rate=lr),\r\n",
        "    loss= keras.losses.CategoricalCrossentropy(),\r\n",
        "    metrics=['accuracy']\r\n",
        ")"
      ],
      "execution_count": 102,
      "outputs": []
    },
    {
      "cell_type": "code",
      "metadata": {
        "id": "I7nxU6ck7p2b"
      },
      "source": [
        "# a check point callback to save our best model\r\n",
        "checkpoint = keras.callbacks.ModelCheckpoint('model.h5', monitor='val_accuracy', \r\n",
        "                                             verbose=1, save_best_only=True, \r\n",
        "                                             mode='max')"
      ],
      "execution_count": 103,
      "outputs": []
    },
    {
      "cell_type": "code",
      "metadata": {
        "colab": {
          "base_uri": "https://localhost:8080/"
        },
        "id": "uSjxEGm6aWm2",
        "outputId": "0440fc7f-22d3-4fed-fc03-22816a764268"
      },
      "source": [
        "history = model.fit_generator(train_generator,\r\n",
        "                              validation_data=validation_generator, verbose=1,\r\n",
        "                              epochs=50, callbacks=[checkpoint])"
      ],
      "execution_count": 104,
      "outputs": [
        {
          "output_type": "stream",
          "text": [
            "/usr/local/lib/python3.7/dist-packages/tensorflow/python/keras/engine/training.py:1844: UserWarning: `Model.fit_generator` is deprecated and will be removed in a future version. Please use `Model.fit`, which supports generators.\n",
            "  warnings.warn('`Model.fit_generator` is deprecated and '\n"
          ],
          "name": "stderr"
        },
        {
          "output_type": "stream",
          "text": [
            "Epoch 1/50\n",
            "24/24 [==============================] - 14s 399ms/step - loss: 0.1232 - accuracy: 0.9733 - val_loss: 2.4013 - val_accuracy: 0.6145\n",
            "\n",
            "Epoch 00001: val_accuracy improved from -inf to 0.61446, saving model to model.h5\n",
            "Epoch 2/50\n",
            "24/24 [==============================] - 9s 368ms/step - loss: 0.0863 - accuracy: 0.9731 - val_loss: 2.8651 - val_accuracy: 0.5663\n",
            "\n",
            "Epoch 00002: val_accuracy did not improve from 0.61446\n",
            "Epoch 3/50\n",
            "24/24 [==============================] - 9s 377ms/step - loss: 0.1172 - accuracy: 0.9734 - val_loss: 2.5573 - val_accuracy: 0.5542\n",
            "\n",
            "Epoch 00003: val_accuracy did not improve from 0.61446\n",
            "Epoch 4/50\n",
            "24/24 [==============================] - 9s 385ms/step - loss: 0.0910 - accuracy: 0.9791 - val_loss: 2.8469 - val_accuracy: 0.5904\n",
            "\n",
            "Epoch 00004: val_accuracy did not improve from 0.61446\n",
            "Epoch 5/50\n",
            "24/24 [==============================] - 9s 385ms/step - loss: 0.1306 - accuracy: 0.9647 - val_loss: 4.4467 - val_accuracy: 0.5783\n",
            "\n",
            "Epoch 00005: val_accuracy did not improve from 0.61446\n",
            "Epoch 6/50\n",
            "24/24 [==============================] - 9s 367ms/step - loss: 0.1070 - accuracy: 0.9769 - val_loss: 2.8675 - val_accuracy: 0.5301\n",
            "\n",
            "Epoch 00006: val_accuracy did not improve from 0.61446\n",
            "Epoch 7/50\n",
            "24/24 [==============================] - 9s 362ms/step - loss: 0.0813 - accuracy: 0.9817 - val_loss: 2.2481 - val_accuracy: 0.6145\n",
            "\n",
            "Epoch 00007: val_accuracy did not improve from 0.61446\n",
            "Epoch 8/50\n",
            "24/24 [==============================] - 9s 361ms/step - loss: 0.0619 - accuracy: 0.9835 - val_loss: 2.2110 - val_accuracy: 0.5904\n",
            "\n",
            "Epoch 00008: val_accuracy did not improve from 0.61446\n",
            "Epoch 9/50\n",
            "24/24 [==============================] - 9s 360ms/step - loss: 0.0563 - accuracy: 0.9823 - val_loss: 1.9509 - val_accuracy: 0.5663\n",
            "\n",
            "Epoch 00009: val_accuracy did not improve from 0.61446\n",
            "Epoch 10/50\n",
            "24/24 [==============================] - 9s 361ms/step - loss: 0.0616 - accuracy: 0.9853 - val_loss: 1.8482 - val_accuracy: 0.6024\n",
            "\n",
            "Epoch 00010: val_accuracy did not improve from 0.61446\n",
            "Epoch 11/50\n",
            "24/24 [==============================] - 9s 364ms/step - loss: 0.0480 - accuracy: 0.9838 - val_loss: 1.7678 - val_accuracy: 0.5904\n",
            "\n",
            "Epoch 00011: val_accuracy did not improve from 0.61446\n",
            "Epoch 12/50\n",
            "24/24 [==============================] - 9s 366ms/step - loss: 0.0480 - accuracy: 0.9820 - val_loss: 1.7534 - val_accuracy: 0.5904\n",
            "\n",
            "Epoch 00012: val_accuracy did not improve from 0.61446\n",
            "Epoch 13/50\n",
            "24/24 [==============================] - 9s 370ms/step - loss: 0.0750 - accuracy: 0.9776 - val_loss: 2.2869 - val_accuracy: 0.5181\n",
            "\n",
            "Epoch 00013: val_accuracy did not improve from 0.61446\n",
            "Epoch 14/50\n",
            "24/24 [==============================] - 9s 377ms/step - loss: 0.0749 - accuracy: 0.9880 - val_loss: 2.6625 - val_accuracy: 0.5181\n",
            "\n",
            "Epoch 00014: val_accuracy did not improve from 0.61446\n",
            "Epoch 15/50\n",
            "24/24 [==============================] - 9s 369ms/step - loss: 0.0760 - accuracy: 0.9757 - val_loss: 2.7563 - val_accuracy: 0.5783\n",
            "\n",
            "Epoch 00015: val_accuracy did not improve from 0.61446\n",
            "Epoch 16/50\n",
            "24/24 [==============================] - 9s 369ms/step - loss: 0.0622 - accuracy: 0.9788 - val_loss: 3.8933 - val_accuracy: 0.5783\n",
            "\n",
            "Epoch 00016: val_accuracy did not improve from 0.61446\n",
            "Epoch 17/50\n",
            "24/24 [==============================] - 9s 367ms/step - loss: 0.0556 - accuracy: 0.9803 - val_loss: 2.1141 - val_accuracy: 0.6265\n",
            "\n",
            "Epoch 00017: val_accuracy improved from 0.61446 to 0.62651, saving model to model.h5\n",
            "Epoch 18/50\n",
            "24/24 [==============================] - 9s 363ms/step - loss: 0.0508 - accuracy: 0.9822 - val_loss: 3.0358 - val_accuracy: 0.4819\n",
            "\n",
            "Epoch 00018: val_accuracy did not improve from 0.62651\n",
            "Epoch 19/50\n",
            "24/24 [==============================] - 9s 365ms/step - loss: 0.1295 - accuracy: 0.9663 - val_loss: 4.1566 - val_accuracy: 0.5181\n",
            "\n",
            "Epoch 00019: val_accuracy did not improve from 0.62651\n",
            "Epoch 20/50\n",
            "24/24 [==============================] - 9s 372ms/step - loss: 0.1563 - accuracy: 0.9515 - val_loss: 4.5194 - val_accuracy: 0.4337\n",
            "\n",
            "Epoch 00020: val_accuracy did not improve from 0.62651\n",
            "Epoch 21/50\n",
            "24/24 [==============================] - 9s 368ms/step - loss: 0.1709 - accuracy: 0.9723 - val_loss: 3.4489 - val_accuracy: 0.5181\n",
            "\n",
            "Epoch 00021: val_accuracy did not improve from 0.62651\n",
            "Epoch 22/50\n",
            "24/24 [==============================] - 9s 368ms/step - loss: 0.0698 - accuracy: 0.9823 - val_loss: 3.5569 - val_accuracy: 0.5422\n",
            "\n",
            "Epoch 00022: val_accuracy did not improve from 0.62651\n",
            "Epoch 23/50\n",
            "24/24 [==============================] - 9s 368ms/step - loss: 0.0589 - accuracy: 0.9872 - val_loss: 3.0308 - val_accuracy: 0.5181\n",
            "\n",
            "Epoch 00023: val_accuracy did not improve from 0.62651\n",
            "Epoch 24/50\n",
            "24/24 [==============================] - 9s 368ms/step - loss: 0.0621 - accuracy: 0.9933 - val_loss: 3.3914 - val_accuracy: 0.5181\n",
            "\n",
            "Epoch 00024: val_accuracy did not improve from 0.62651\n",
            "Epoch 25/50\n",
            "24/24 [==============================] - 9s 368ms/step - loss: 0.1147 - accuracy: 0.9748 - val_loss: 2.2997 - val_accuracy: 0.5783\n",
            "\n",
            "Epoch 00025: val_accuracy did not improve from 0.62651\n",
            "Epoch 26/50\n",
            "24/24 [==============================] - 9s 364ms/step - loss: 0.0583 - accuracy: 0.9903 - val_loss: 1.8203 - val_accuracy: 0.6145\n",
            "\n",
            "Epoch 00026: val_accuracy did not improve from 0.62651\n",
            "Epoch 27/50\n",
            "24/24 [==============================] - 9s 367ms/step - loss: 0.0413 - accuracy: 0.9875 - val_loss: 1.7404 - val_accuracy: 0.6024\n",
            "\n",
            "Epoch 00027: val_accuracy did not improve from 0.62651\n",
            "Epoch 28/50\n",
            "24/24 [==============================] - 9s 365ms/step - loss: 0.0299 - accuracy: 0.9905 - val_loss: 1.6435 - val_accuracy: 0.6506\n",
            "\n",
            "Epoch 00028: val_accuracy improved from 0.62651 to 0.65060, saving model to model.h5\n",
            "Epoch 29/50\n",
            "24/24 [==============================] - 9s 365ms/step - loss: 0.0338 - accuracy: 0.9890 - val_loss: 1.6190 - val_accuracy: 0.6627\n",
            "\n",
            "Epoch 00029: val_accuracy improved from 0.65060 to 0.66265, saving model to model.h5\n",
            "Epoch 30/50\n",
            "24/24 [==============================] - 9s 367ms/step - loss: 0.0345 - accuracy: 0.9863 - val_loss: 1.5802 - val_accuracy: 0.6627\n",
            "\n",
            "Epoch 00030: val_accuracy did not improve from 0.66265\n",
            "Epoch 31/50\n",
            "24/24 [==============================] - 9s 367ms/step - loss: 0.0784 - accuracy: 0.9782 - val_loss: 1.7025 - val_accuracy: 0.6024\n",
            "\n",
            "Epoch 00031: val_accuracy did not improve from 0.66265\n",
            "Epoch 32/50\n",
            "24/24 [==============================] - 9s 375ms/step - loss: 0.0297 - accuracy: 0.9910 - val_loss: 2.5233 - val_accuracy: 0.5422\n",
            "\n",
            "Epoch 00032: val_accuracy did not improve from 0.66265\n",
            "Epoch 33/50\n",
            "24/24 [==============================] - 9s 368ms/step - loss: 0.0288 - accuracy: 0.9907 - val_loss: 2.6495 - val_accuracy: 0.5783\n",
            "\n",
            "Epoch 00033: val_accuracy did not improve from 0.66265\n",
            "Epoch 34/50\n",
            "24/24 [==============================] - 9s 368ms/step - loss: 0.0276 - accuracy: 0.9932 - val_loss: 2.3787 - val_accuracy: 0.6145\n",
            "\n",
            "Epoch 00034: val_accuracy did not improve from 0.66265\n",
            "Epoch 35/50\n",
            "24/24 [==============================] - 9s 368ms/step - loss: 0.0291 - accuracy: 0.9891 - val_loss: 3.0253 - val_accuracy: 0.5904\n",
            "\n",
            "Epoch 00035: val_accuracy did not improve from 0.66265\n",
            "Epoch 36/50\n",
            "24/24 [==============================] - 9s 368ms/step - loss: 0.0725 - accuracy: 0.9829 - val_loss: 2.8076 - val_accuracy: 0.5783\n",
            "\n",
            "Epoch 00036: val_accuracy did not improve from 0.66265\n",
            "Epoch 37/50\n",
            "24/24 [==============================] - 9s 365ms/step - loss: 0.0339 - accuracy: 0.9894 - val_loss: 2.3251 - val_accuracy: 0.6145\n",
            "\n",
            "Epoch 00037: val_accuracy did not improve from 0.66265\n",
            "Epoch 38/50\n",
            "24/24 [==============================] - 9s 365ms/step - loss: 0.0331 - accuracy: 0.9866 - val_loss: 2.0641 - val_accuracy: 0.6145\n",
            "\n",
            "Epoch 00038: val_accuracy did not improve from 0.66265\n",
            "Epoch 39/50\n",
            "24/24 [==============================] - 9s 365ms/step - loss: 0.0317 - accuracy: 0.9907 - val_loss: 1.8728 - val_accuracy: 0.6386\n",
            "\n",
            "Epoch 00039: val_accuracy did not improve from 0.66265\n",
            "Epoch 40/50\n",
            "24/24 [==============================] - 9s 366ms/step - loss: 0.0085 - accuracy: 0.9973 - val_loss: 1.8066 - val_accuracy: 0.6506\n",
            "\n",
            "Epoch 00040: val_accuracy did not improve from 0.66265\n",
            "Epoch 41/50\n",
            "24/24 [==============================] - 9s 364ms/step - loss: 0.0213 - accuracy: 0.9975 - val_loss: 1.8312 - val_accuracy: 0.6506\n",
            "\n",
            "Epoch 00041: val_accuracy did not improve from 0.66265\n",
            "Epoch 42/50\n",
            "24/24 [==============================] - 9s 365ms/step - loss: 0.0204 - accuracy: 0.9943 - val_loss: 1.8408 - val_accuracy: 0.6506\n",
            "\n",
            "Epoch 00042: val_accuracy did not improve from 0.66265\n",
            "Epoch 43/50\n",
            "24/24 [==============================] - 9s 366ms/step - loss: 0.0164 - accuracy: 0.9959 - val_loss: 1.8512 - val_accuracy: 0.6506\n",
            "\n",
            "Epoch 00043: val_accuracy did not improve from 0.66265\n",
            "Epoch 44/50\n",
            "24/24 [==============================] - 9s 367ms/step - loss: 0.0240 - accuracy: 0.9881 - val_loss: 2.2119 - val_accuracy: 0.6024\n",
            "\n",
            "Epoch 00044: val_accuracy did not improve from 0.66265\n",
            "Epoch 45/50\n",
            "24/24 [==============================] - 9s 366ms/step - loss: 0.0336 - accuracy: 0.9945 - val_loss: 3.0926 - val_accuracy: 0.5060\n",
            "\n",
            "Epoch 00045: val_accuracy did not improve from 0.66265\n",
            "Epoch 46/50\n",
            "24/24 [==============================] - 9s 367ms/step - loss: 0.0554 - accuracy: 0.9848 - val_loss: 2.1121 - val_accuracy: 0.5542\n",
            "\n",
            "Epoch 00046: val_accuracy did not improve from 0.66265\n",
            "Epoch 47/50\n",
            "24/24 [==============================] - 9s 366ms/step - loss: 0.0436 - accuracy: 0.9883 - val_loss: 1.7485 - val_accuracy: 0.6265\n",
            "\n",
            "Epoch 00047: val_accuracy did not improve from 0.66265\n",
            "Epoch 48/50\n",
            "24/24 [==============================] - 9s 368ms/step - loss: 0.0802 - accuracy: 0.9755 - val_loss: 1.9689 - val_accuracy: 0.5783\n",
            "\n",
            "Epoch 00048: val_accuracy did not improve from 0.66265\n",
            "Epoch 49/50\n",
            "24/24 [==============================] - 9s 367ms/step - loss: 0.0461 - accuracy: 0.9852 - val_loss: 2.4667 - val_accuracy: 0.5904\n",
            "\n",
            "Epoch 00049: val_accuracy did not improve from 0.66265\n",
            "Epoch 50/50\n",
            "24/24 [==============================] - 9s 367ms/step - loss: 0.0526 - accuracy: 0.9831 - val_loss: 2.8593 - val_accuracy: 0.5663\n",
            "\n",
            "Epoch 00050: val_accuracy did not improve from 0.66265\n"
          ],
          "name": "stdout"
        }
      ]
    },
    {
      "cell_type": "code",
      "metadata": {
        "colab": {
          "base_uri": "https://localhost:8080/",
          "height": 513
        },
        "id": "D4i3kZ3vaWkV",
        "outputId": "72675bed-7cbb-4f79-f64c-3355d08d1608"
      },
      "source": [
        "plt.plot(history.history['accuracy'])\r\n",
        "plt.plot(history.history['val_accuracy'])\r\n",
        "plt.title('Model Accuracy')\r\n",
        "plt.ylabel('Accuracy')\r\n",
        "plt.xlabel('Epoch')\r\n",
        "plt.legend(['Train', 'Validation'], loc='best')\r\n",
        "plt.show()"
      ],
      "execution_count": 105,
      "outputs": [
        {
          "output_type": "display_data",
          "data": {
            "image/png": "[encoded data removed]",
            "text/plain": [
              "<Figure size 720x576 with 1 Axes>"
            ]
          },
          "metadata": {
            "tags": [],
            "needs_background": "light"
          }
        }
      ]
    },
    {
      "cell_type": "code",
      "metadata": {
        "id": "kCP09rCGjOxg"
      },
      "source": [
        "model= keras.models.load_model('model.h5')"
      ],
      "execution_count": 107,
      "outputs": []
    },
    {
      "cell_type": "code",
      "metadata": {
        "id": "gHGyb4X2HdE8"
      },
      "source": [
        ""
      ],
      "execution_count": null,
      "outputs": []
    }
  ]
}